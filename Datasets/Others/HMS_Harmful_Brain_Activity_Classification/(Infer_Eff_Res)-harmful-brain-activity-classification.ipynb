{
 "cells": [
  {
   "cell_type": "markdown",
   "id": "a97447b4-b89a-4f3b-b360-ed2a79329d16",
   "metadata": {},
   "source": [
    "# Import Tools"
   ]
  },
  {
   "cell_type": "code",
   "execution_count": 17,
   "id": "e2ad2b46-2c7a-4893-a02b-4f4f376841d4",
   "metadata": {},
   "outputs": [
    {
     "data": {
      "text/plain": [
       "0"
      ]
     },
     "execution_count": 17,
     "metadata": {},
     "output_type": "execute_result"
    }
   ],
   "source": [
    "import gc\n",
    "import os\n",
    "import random\n",
    "import warnings\n",
    "import numpy as np\n",
    "import pandas as pd\n",
    "from IPython.display import display\n",
    "import timm\n",
    "import torch\n",
    "import torch.nn as nn  \n",
    "import torch.optim as optim\n",
    "import torch.nn.functional as F\n",
    "import torchvision.transforms as transforms\n",
    "warnings.filterwarnings('ignore', category=Warning)\n",
    "gc.collect()"
   ]
  },
  {
   "cell_type": "code",
   "execution_count": 18,
   "id": "6c826635-b1cf-4f8b-8c4a-61d06d62f4db",
   "metadata": {},
   "outputs": [],
   "source": [
    "class Config:\n",
    "    seed=42\n",
    "    image_transform=transforms.Resize((512, 512))\n",
    "    num_folds=5\n",
    "    root_path = \"\"\n",
    "    \n",
    "def set_seed(seed):\n",
    "    torch.backends.cudnn.deterministic = True\n",
    "    torch.backends.cudnn.benchmark = True\n",
    "    torch.manual_seed(seed)\n",
    "    np.random.seed(seed)\n",
    "    random.seed(seed)\n",
    "    \n",
    "set_seed(Config.seed)"
   ]
  },
  {
   "cell_type": "markdown",
   "id": "57bdb056-a816-43af-9087-b5ff4ff05186",
   "metadata": {},
   "source": [
    "# Load models"
   ]
  },
  {
   "cell_type": "markdown",
   "id": "222635cb-b4a5-4abe-8562-99b73f2f4ab1",
   "metadata": {},
   "source": [
    "## Resnet34d"
   ]
  },
  {
   "cell_type": "code",
   "execution_count": 19,
   "id": "c924d97e-293b-4074-87f7-be855f287861",
   "metadata": {},
   "outputs": [
    {
     "data": {
      "text/plain": [
       "49"
      ]
     },
     "execution_count": 19,
     "metadata": {},
     "output_type": "execute_result"
    }
   ],
   "source": [
    "models = []\n",
    "for i in range(Config.num_folds):\n",
    "    model_resnet = timm.create_model('resnet34d', pretrained=False, num_classes=6, in_chans=1)\n",
    "    model_resnet.load_state_dict(torch.load(f'{Config.root_path}resnet34d_fold{i}.pth', map_location=torch.device('cpu')))\n",
    "    models.append(model_resnet)\n",
    "gc.collect()"
   ]
  },
  {
   "cell_type": "markdown",
   "id": "b05de2a2-fe99-454d-ab93-19073cb3ce26",
   "metadata": {},
   "source": [
    "## Efficientnet"
   ]
  },
  {
   "cell_type": "code",
   "execution_count": 20,
   "id": "57005bf4-7fe4-4635-b03d-92b94bd2b88e",
   "metadata": {},
   "outputs": [
    {
     "data": {
      "text/plain": [
       "45"
      ]
     },
     "execution_count": 20,
     "metadata": {},
     "output_type": "execute_result"
    }
   ],
   "source": [
    "for j in range(Config.num_folds):\n",
    "    model_effnet = timm.create_model('efficientnet_b0', pretrained=False, num_classes=6, in_chans=1)\n",
    "    model_effnet.load_state_dict(torch.load(f'{Config.root_path}efficientnet_b0_fold{j}.pth', map_location=torch.device('cpu')))\n",
    "    models.append(model_effnet)\n",
    "gc.collect()"
   ]
  },
  {
   "cell_type": "code",
   "execution_count": 21,
   "id": "ec760cb1-6764-4565-8003-c133dbe940e8",
   "metadata": {},
   "outputs": [
    {
     "data": {
      "text/html": [
       "<div>\n",
       "<style scoped>\n",
       "    .dataframe tbody tr th:only-of-type {\n",
       "        vertical-align: middle;\n",
       "    }\n",
       "\n",
       "    .dataframe tbody tr th {\n",
       "        vertical-align: top;\n",
       "    }\n",
       "\n",
       "    .dataframe thead th {\n",
       "        text-align: right;\n",
       "    }\n",
       "</style>\n",
       "<table border=\"1\" class=\"dataframe\">\n",
       "  <thead>\n",
       "    <tr style=\"text-align: right;\">\n",
       "      <th></th>\n",
       "      <th>eeg_id</th>\n",
       "      <th>seizure_vote</th>\n",
       "      <th>lpd_vote</th>\n",
       "      <th>gpd_vote</th>\n",
       "      <th>lrda_vote</th>\n",
       "      <th>grda_vote</th>\n",
       "      <th>other_vote</th>\n",
       "      <th>spectrogram_id</th>\n",
       "      <th>patient_id</th>\n",
       "      <th>path</th>\n",
       "    </tr>\n",
       "  </thead>\n",
       "  <tbody>\n",
       "    <tr>\n",
       "      <th>0</th>\n",
       "      <td>3911565283</td>\n",
       "      <td>0.166667</td>\n",
       "      <td>0.166667</td>\n",
       "      <td>0.166667</td>\n",
       "      <td>0.166667</td>\n",
       "      <td>0.166667</td>\n",
       "      <td>0.166667</td>\n",
       "      <td>853520</td>\n",
       "      <td>6885</td>\n",
       "      <td>test_spectrograms/853520.parquet</td>\n",
       "    </tr>\n",
       "  </tbody>\n",
       "</table>\n",
       "</div>"
      ],
      "text/plain": [
       "       eeg_id  seizure_vote  lpd_vote  gpd_vote  lrda_vote  grda_vote  \\\n",
       "0  3911565283      0.166667  0.166667  0.166667   0.166667   0.166667   \n",
       "\n",
       "   other_vote  spectrogram_id  patient_id                              path  \n",
       "0    0.166667          853520        6885  test_spectrograms/853520.parquet  "
      ]
     },
     "metadata": {},
     "output_type": "display_data"
    },
    {
     "data": {
      "text/plain": [
       "0"
      ]
     },
     "execution_count": 21,
     "metadata": {},
     "output_type": "execute_result"
    }
   ],
   "source": [
    "test_df = pd.read_csv(f\"{Config.root_path}test.csv\")\n",
    "submission = pd.read_csv(f\"{Config.root_path}sample_submission.csv\")\n",
    "submission = submission.merge(test_df, on='eeg_id', how='left')\n",
    "submission['path'] = submission['spectrogram_id'].apply(lambda x: f\"{Config.root_path}test_spectrograms/{x}.parquet\")\n",
    "display(submission.head())\n",
    "gc.collect()"
   ]
  },
  {
   "cell_type": "code",
   "execution_count": null,
   "id": "e007c0a1-e753-4e51-a61c-a2b3e3e34985",
   "metadata": {},
   "outputs": [],
   "source": [
    "weight_resnet = 0.32\n",
    "weight_effnet = 0.68\n",
    "paths = submission['path'].values\n",
    "test_preds = []\n",
    "\n",
    "for path in paths:\n",
    "    eps = 1e-6\n",
    "\n",
    "    # Read and preprocess spectrogram data\n",
    "    data = pd.read_parquet(path)\n",
    "    data = data.fillna(-1).values[:, 1:].T\n",
    "    data = np.clip(data, np.exp(-6), np.exp(10))\n",
    "    data = np.log(data)\n",
    "    \n",
    "    # Normalize the data\n",
    "    data_mean = data.mean(axis=(0, 1))\n",
    "    data_std = data.std(axis=(0, 1))\n",
    "    data = (data - data_mean) / (data_std + eps)\n",
    "    data_tensor = torch.unsqueeze(torch.Tensor(data), dim=0)\n",
    "    data = Config.image_transform(data_tensor)\n",
    "\n",
    "    test_pred = []\n",
    "    \n",
    "    for model in models:\n",
    "        model.eval()\n",
    "        with torch.no_grad():\n",
    "            pred = F.softmax(model(data.unsqueeze(0)))[0]\n",
    "            pred = pred.detach().cpu().numpy()\n",
    "        test_pred.append(pred)\n",
    "        \n",
    "    weighted_pred = weight_resnet * np.mean(test_pred[:len(models)//2], axis=0) + \\\n",
    "                     weight_effnet * np.mean(test_pred[len(models)//2:], axis=0)\n",
    "    \n",
    "    test_preds.append(weighted_pred)\n",
    "test_preds = np.array(test_preds)\n",
    "gc.collect()"
   ]
  },
  {
   "cell_type": "code",
   "execution_count": null,
   "id": "c61ac143-f589-40e6-99f2-0053cecdee18",
   "metadata": {},
   "outputs": [],
   "source": [
    "submission = pd.read_csv(f\"{Config.root_path}sample_submission.csv\")\n",
    "labels = ['seizure', 'lpd', 'gpd', 'lrda', 'grda', 'other']\n",
    "for i in range(len(labels)):\n",
    "    submission[f'{labels[i]}_vote'] = test_preds[:, i]\n",
    "\n",
    "submission.to_csv(\"submission.csv\", index=None)\n",
    "display(submission.head())\n",
    "gc.collect()"
   ]
  },
  {
   "cell_type": "code",
   "execution_count": null,
   "id": "01d7ab60-07ea-4c34-85de-cf67a4278c42",
   "metadata": {},
   "outputs": [],
   "source": []
  }
 ],
 "metadata": {
  "kernelspec": {
   "display_name": "Python 3 (ipykernel)",
   "language": "python",
   "name": "python3"
  },
  "language_info": {
   "codemirror_mode": {
    "name": "ipython",
    "version": 3
   },
   "file_extension": ".py",
   "mimetype": "text/x-python",
   "name": "python",
   "nbconvert_exporter": "python",
   "pygments_lexer": "ipython3",
   "version": "3.8.18"
  }
 },
 "nbformat": 4,
 "nbformat_minor": 5
}
