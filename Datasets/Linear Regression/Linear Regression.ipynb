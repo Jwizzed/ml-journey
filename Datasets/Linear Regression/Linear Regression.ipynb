{
 "cells": [
  {
   "cell_type": "markdown",
   "id": "7fdaa515",
   "metadata": {},
   "source": [
    "# Dataset: Linear Regression\n",
    "* Source: https://www.kaggle.com/datasets/andonians/random-linear-regression"
   ]
  },
  {
   "cell_type": "markdown",
   "id": "039a5275",
   "metadata": {},
   "source": [
    "## Import Tools"
   ]
  },
  {
   "cell_type": "code",
   "execution_count": 89,
   "id": "da30bca0",
   "metadata": {},
   "outputs": [],
   "source": [
    "import numpy as np\n",
    "import pandas as pd\n",
    "import tensorflow as tf\n",
    "import matplotlib.pyplot as plt"
   ]
  },
  {
   "cell_type": "code",
   "execution_count": 5,
   "id": "2d0e6fbd",
   "metadata": {
    "scrolled": true
   },
   "outputs": [
    {
     "data": {
      "text/plain": [
       "('myTool.py', <http.client.HTTPMessage at 0x109c0d210>)"
      ]
     },
     "execution_count": 5,
     "metadata": {},
     "output_type": "execute_result"
    }
   ],
   "source": [
    "import urllib\n",
    "url = 'https://raw.githubusercontent.com/Jwizzed/ml-journey/main/myTool.py'\n",
    "file_name = \"myTool.py\"\n",
    "urllib.request.urlretrieve(url, file_name)"
   ]
  },
  {
   "cell_type": "code",
   "execution_count": 6,
   "id": "3261fae8",
   "metadata": {},
   "outputs": [],
   "source": [
    "from myTool import report_dir, unzip"
   ]
  },
  {
   "cell_type": "markdown",
   "id": "20196222",
   "metadata": {},
   "source": [
    "## Get the data"
   ]
  },
  {
   "cell_type": "code",
   "execution_count": 3,
   "id": "46dda172",
   "metadata": {},
   "outputs": [
    {
     "name": "stdout",
     "output_type": "stream",
     "text": [
      "Downloading random-linear-regression.zip to /Users/krittinsetdhavanich/Downloads/ml-journey/Datasets/Linear Regression\r\n",
      "\r",
      "  0%|                                               | 0.00/7.63k [00:00<?, ?B/s]\r\n",
      "\r",
      "100%|██████████████████████████████████████| 7.63k/7.63k [00:00<00:00, 7.22MB/s]\r\n"
     ]
    }
   ],
   "source": [
    "!kaggle datasets download -d andonians/random-linear-regression"
   ]
  },
  {
   "cell_type": "code",
   "execution_count": 4,
   "id": "eaf9b644",
   "metadata": {},
   "outputs": [
    {
     "name": "stdout",
     "output_type": "stream",
     "text": [
      "Linear Regression.ipynb      random-linear-regression.zip\r\n"
     ]
    }
   ],
   "source": [
    "!ls"
   ]
  },
  {
   "cell_type": "code",
   "execution_count": 7,
   "id": "f99805bf",
   "metadata": {},
   "outputs": [],
   "source": [
    "unzip(\"random-linear-regression.zip\")"
   ]
  },
  {
   "cell_type": "code",
   "execution_count": 8,
   "id": "ad69434a",
   "metadata": {
    "scrolled": true
   },
   "outputs": [
    {
     "name": "stdout",
     "output_type": "stream",
     "text": [
      "Linear Regression.ipynb      random-linear-regression.zip\r\n",
      "\u001b[34m__pycache__\u001b[m\u001b[m                  test.csv\r\n",
      "myTool.py                    train.csv\r\n"
     ]
    }
   ],
   "source": [
    "!ls"
   ]
  },
  {
   "cell_type": "code",
   "execution_count": 14,
   "id": "a126977c",
   "metadata": {
    "scrolled": true
   },
   "outputs": [
    {
     "data": {
      "text/html": [
       "<div>\n",
       "<style scoped>\n",
       "    .dataframe tbody tr th:only-of-type {\n",
       "        vertical-align: middle;\n",
       "    }\n",
       "\n",
       "    .dataframe tbody tr th {\n",
       "        vertical-align: top;\n",
       "    }\n",
       "\n",
       "    .dataframe thead th {\n",
       "        text-align: right;\n",
       "    }\n",
       "</style>\n",
       "<table border=\"1\" class=\"dataframe\">\n",
       "  <thead>\n",
       "    <tr style=\"text-align: right;\">\n",
       "      <th></th>\n",
       "      <th>x</th>\n",
       "      <th>y</th>\n",
       "    </tr>\n",
       "  </thead>\n",
       "  <tbody>\n",
       "    <tr>\n",
       "      <th>0</th>\n",
       "      <td>24.0</td>\n",
       "      <td>21.549452</td>\n",
       "    </tr>\n",
       "    <tr>\n",
       "      <th>1</th>\n",
       "      <td>50.0</td>\n",
       "      <td>47.464463</td>\n",
       "    </tr>\n",
       "    <tr>\n",
       "      <th>2</th>\n",
       "      <td>15.0</td>\n",
       "      <td>17.218656</td>\n",
       "    </tr>\n",
       "    <tr>\n",
       "      <th>3</th>\n",
       "      <td>38.0</td>\n",
       "      <td>36.586398</td>\n",
       "    </tr>\n",
       "    <tr>\n",
       "      <th>4</th>\n",
       "      <td>87.0</td>\n",
       "      <td>87.288984</td>\n",
       "    </tr>\n",
       "  </tbody>\n",
       "</table>\n",
       "</div>"
      ],
      "text/plain": [
       "      x          y\n",
       "0  24.0  21.549452\n",
       "1  50.0  47.464463\n",
       "2  15.0  17.218656\n",
       "3  38.0  36.586398\n",
       "4  87.0  87.288984"
      ]
     },
     "execution_count": 14,
     "metadata": {},
     "output_type": "execute_result"
    }
   ],
   "source": [
    "train_df = pd.read_csv(\"train.csv\")\n",
    "test_df = pd.read_csv(\"test.csv\")\n",
    "train_df.head()"
   ]
  },
  {
   "cell_type": "code",
   "execution_count": 47,
   "id": "68662515",
   "metadata": {},
   "outputs": [
    {
     "data": {
      "text/plain": [
       "((699, 2), (300, 2))"
      ]
     },
     "execution_count": 47,
     "metadata": {},
     "output_type": "execute_result"
    }
   ],
   "source": [
    "train_df.shape, test_df.shape"
   ]
  },
  {
   "cell_type": "code",
   "execution_count": 41,
   "id": "e7ed1b38",
   "metadata": {
    "scrolled": true
   },
   "outputs": [
    {
     "data": {
      "text/plain": [
       "x    0\n",
       "y    1\n",
       "dtype: int64"
      ]
     },
     "execution_count": 41,
     "metadata": {},
     "output_type": "execute_result"
    }
   ],
   "source": [
    "train_df.isna().sum()"
   ]
  },
  {
   "cell_type": "code",
   "execution_count": 57,
   "id": "7ddd27a9",
   "metadata": {
    "scrolled": true
   },
   "outputs": [
    {
     "data": {
      "text/plain": [
       "x    0\n",
       "y    0\n",
       "dtype: int64"
      ]
     },
     "execution_count": 57,
     "metadata": {},
     "output_type": "execute_result"
    }
   ],
   "source": [
    "test_df.isna().sum()"
   ]
  },
  {
   "cell_type": "code",
   "execution_count": 82,
   "id": "65d59343",
   "metadata": {},
   "outputs": [
    {
     "data": {
      "text/plain": [
       "((349, 2), (349, 2), (150, 2), (150, 2))"
      ]
     },
     "execution_count": 82,
     "metadata": {},
     "output_type": "execute_result"
    }
   ],
   "source": [
    "X_train = train_df[:-1].x.values.reshape(-1, 2)\n",
    "y_train = train_df[:-1].y.values.reshape(-1, 2)\n",
    "\n",
    "X_test = test_df.x.values.reshape(-1, 2)\n",
    "y_test = test_df.y.values.reshape(-1, 2)\n",
    "X_train.shape, y_train.shape , X_test.shape, y_test.shape"
   ]
  },
  {
   "cell_type": "markdown",
   "id": "80533e3b",
   "metadata": {},
   "source": [
    "## Make a prediction with sk-learn"
   ]
  },
  {
   "cell_type": "code",
   "execution_count": 85,
   "id": "9e2302f1",
   "metadata": {},
   "outputs": [
    {
     "data": {
      "text/html": [
       "<style>#sk-container-id-7 {color: black;background-color: white;}#sk-container-id-7 pre{padding: 0;}#sk-container-id-7 div.sk-toggleable {background-color: white;}#sk-container-id-7 label.sk-toggleable__label {cursor: pointer;display: block;width: 100%;margin-bottom: 0;padding: 0.3em;box-sizing: border-box;text-align: center;}#sk-container-id-7 label.sk-toggleable__label-arrow:before {content: \"▸\";float: left;margin-right: 0.25em;color: #696969;}#sk-container-id-7 label.sk-toggleable__label-arrow:hover:before {color: black;}#sk-container-id-7 div.sk-estimator:hover label.sk-toggleable__label-arrow:before {color: black;}#sk-container-id-7 div.sk-toggleable__content {max-height: 0;max-width: 0;overflow: hidden;text-align: left;background-color: #f0f8ff;}#sk-container-id-7 div.sk-toggleable__content pre {margin: 0.2em;color: black;border-radius: 0.25em;background-color: #f0f8ff;}#sk-container-id-7 input.sk-toggleable__control:checked~div.sk-toggleable__content {max-height: 200px;max-width: 100%;overflow: auto;}#sk-container-id-7 input.sk-toggleable__control:checked~label.sk-toggleable__label-arrow:before {content: \"▾\";}#sk-container-id-7 div.sk-estimator input.sk-toggleable__control:checked~label.sk-toggleable__label {background-color: #d4ebff;}#sk-container-id-7 div.sk-label input.sk-toggleable__control:checked~label.sk-toggleable__label {background-color: #d4ebff;}#sk-container-id-7 input.sk-hidden--visually {border: 0;clip: rect(1px 1px 1px 1px);clip: rect(1px, 1px, 1px, 1px);height: 1px;margin: -1px;overflow: hidden;padding: 0;position: absolute;width: 1px;}#sk-container-id-7 div.sk-estimator {font-family: monospace;background-color: #f0f8ff;border: 1px dotted black;border-radius: 0.25em;box-sizing: border-box;margin-bottom: 0.5em;}#sk-container-id-7 div.sk-estimator:hover {background-color: #d4ebff;}#sk-container-id-7 div.sk-parallel-item::after {content: \"\";width: 100%;border-bottom: 1px solid gray;flex-grow: 1;}#sk-container-id-7 div.sk-label:hover label.sk-toggleable__label {background-color: #d4ebff;}#sk-container-id-7 div.sk-serial::before {content: \"\";position: absolute;border-left: 1px solid gray;box-sizing: border-box;top: 0;bottom: 0;left: 50%;z-index: 0;}#sk-container-id-7 div.sk-serial {display: flex;flex-direction: column;align-items: center;background-color: white;padding-right: 0.2em;padding-left: 0.2em;position: relative;}#sk-container-id-7 div.sk-item {position: relative;z-index: 1;}#sk-container-id-7 div.sk-parallel {display: flex;align-items: stretch;justify-content: center;background-color: white;position: relative;}#sk-container-id-7 div.sk-item::before, #sk-container-id-7 div.sk-parallel-item::before {content: \"\";position: absolute;border-left: 1px solid gray;box-sizing: border-box;top: 0;bottom: 0;left: 50%;z-index: -1;}#sk-container-id-7 div.sk-parallel-item {display: flex;flex-direction: column;z-index: 1;position: relative;background-color: white;}#sk-container-id-7 div.sk-parallel-item:first-child::after {align-self: flex-end;width: 50%;}#sk-container-id-7 div.sk-parallel-item:last-child::after {align-self: flex-start;width: 50%;}#sk-container-id-7 div.sk-parallel-item:only-child::after {width: 0;}#sk-container-id-7 div.sk-dashed-wrapped {border: 1px dashed gray;margin: 0 0.4em 0.5em 0.4em;box-sizing: border-box;padding-bottom: 0.4em;background-color: white;}#sk-container-id-7 div.sk-label label {font-family: monospace;font-weight: bold;display: inline-block;line-height: 1.2em;}#sk-container-id-7 div.sk-label-container {text-align: center;}#sk-container-id-7 div.sk-container {/* jupyter's `normalize.less` sets `[hidden] { display: none; }` but bootstrap.min.css set `[hidden] { display: none !important; }` so we also need the `!important` here to be able to override the default hidden behavior on the sphinx rendered scikit-learn.org. See: https://github.com/scikit-learn/scikit-learn/issues/21755 */display: inline-block !important;position: relative;}#sk-container-id-7 div.sk-text-repr-fallback {display: none;}</style><div id=\"sk-container-id-7\" class=\"sk-top-container\"><div class=\"sk-text-repr-fallback\"><pre>LinearRegression()</pre><b>In a Jupyter environment, please rerun this cell to show the HTML representation or trust the notebook. <br />On GitHub, the HTML representation is unable to render, please try loading this page with nbviewer.org.</b></div><div class=\"sk-container\" hidden><div class=\"sk-item\"><div class=\"sk-estimator sk-toggleable\"><input class=\"sk-toggleable__control sk-hidden--visually\" id=\"sk-estimator-id-7\" type=\"checkbox\" checked><label for=\"sk-estimator-id-7\" class=\"sk-toggleable__label sk-toggleable__label-arrow\">LinearRegression</label><div class=\"sk-toggleable__content\"><pre>LinearRegression()</pre></div></div></div></div></div>"
      ],
      "text/plain": [
       "LinearRegression()"
      ]
     },
     "execution_count": 85,
     "metadata": {},
     "output_type": "execute_result"
    }
   ],
   "source": [
    "from sklearn.linear_model import LinearRegression\n",
    "from sklearn.metrics import r2_score\n",
    "sk_model = LinearRegression()\n",
    "sk_model.fit(X_train, y_train)"
   ]
  },
  {
   "cell_type": "code",
   "execution_count": 115,
   "id": "4b94e80b",
   "metadata": {},
   "outputs": [
    {
     "data": {
      "text/plain": [
       "array([[ 7.68253314e+01,  2.11061102e+01],\n",
       "       [ 2.18926945e+01,  1.97737720e+01],\n",
       "       [ 3.58769119e+01,  1.48460013e+01],\n",
       "       [ 6.18244184e+01,  9.51902634e+01],\n",
       "       [ 1.98990294e+01,  4.72647209e+00],\n",
       "       [ 3.91491527e+00,  1.86634236e+01],\n",
       "       [ 9.57915046e+01,  6.23165929e+01],\n",
       "       [ 3.58769119e+01,  1.48460013e+01],\n",
       "       [ 6.48417897e+01,  1.40176400e+01],\n",
       "       [ 8.68006677e+01,  6.92790690e+01],\n",
       "       [ 8.88029012e+01,  5.12487079e+01],\n",
       "       [ 8.88091328e+01,  2.71922271e+01],\n",
       "       [ 9.67913232e+01,  5.83131792e+01],\n",
       "       [ 7.88228913e+01,  2.11181097e+01],\n",
       "       [ 9.28042525e+01,  2.72162260e+01],\n",
       "       [ 9.87958936e+01,  3.12616378e+01],\n",
       "       [ 3.28636949e+01,  7.99809709e+01],\n",
       "       [ 2.78783636e+01,  4.68733112e+01],\n",
       "       [ 5.28421498e+01,  6.90750783e+01],\n",
       "       [ 2.78819987e+01,  3.28403641e+01],\n",
       "       [ 9.07952681e+01,  7.13077746e+01],\n",
       "       [ 4.98439924e+01,  7.60735527e+01],\n",
       "       [ 3.91024160e+00,  3.67057842e+01],\n",
       "       [ 6.98216684e+01,  6.81747203e+01],\n",
       "       [ 3.98668386e+01,  3.49170675e+01],\n",
       "       [ 9.37871939e+01,  8.83657810e+01],\n",
       "       [ 5.18532365e+01,  3.09796508e+01],\n",
       "       [ 5.88527452e+01, -5.13054876e-02],\n",
       "       [ 3.88605289e+01,  6.39793154e+01],\n",
       "       [ 6.88257446e+01,  5.71428336e+01],\n",
       "       [ 1.28901733e+01,  7.18421495e+01],\n",
       "       [ 7.58161655e+01,  6.11942451e+01],\n",
       "       [ 8.18200101e+01,  1.81290487e+01],\n",
       "       [ 4.08617239e+01,  4.99583677e+01],\n",
       "       [ 5.48542500e+01,  1.29552894e+01],\n",
       "       [ 4.58652305e+01,  1.29012918e+01],\n",
       "       [ 7.88145825e+01,  5.31934173e+01],\n",
       "       [ 1.48991578e+01,  2.77506009e+01],\n",
       "       [ 8.08079880e+01,  6.92430706e+01],\n",
       "       [ 5.18394751e+01,  8.41043791e+01],\n",
       "       [ 6.78347541e+01,  2.70662329e+01],\n",
       "       [ 5.58439422e+01,  4.80436569e+01],\n",
       "       [ 3.98658001e+01,  3.89264810e+01],\n",
       "       [ 8.17987189e+01,  1.00322025e+02],\n",
       "       [ 5.88415803e+01,  4.30498892e+01],\n",
       "       [ 6.68331180e+01,  3.80861202e+01],\n",
       "       [ 6.28242369e+01,  9.11868496e+01],\n",
       "       [ 5.98478900e+01,  1.39876413e+01],\n",
       "       [ 2.08765181e+01,  8.69254477e+01],\n",
       "       [ 7.28273555e+01,  3.21079983e+01],\n",
       "       [ 1.90099754e+00,  8.17996862e+01],\n",
       "       [ 1.88823337e+01,  7.38828545e+01],\n",
       "       [ 4.18703704e+01,  1.18749396e+01],\n",
       "       [ 9.00140419e-01,  8.98125134e+01],\n",
       "       [ 8.88161433e+01,  1.28686239e-01],\n",
       "       [ 4.08705519e+01,  1.58783533e+01],\n",
       "       [ 9.37848571e+01,  9.73869613e+01],\n",
       "       [ 6.58379732e+01,  2.40471733e+01],\n",
       "       [ 1.68806194e+01,  8.99085089e+01],\n",
       "       [ 1.29088680e+01, -3.27292802e-01],\n",
       "       [ 6.38217186e+01,  9.62046162e+01],\n",
       "       [ 9.78020469e+01,  1.22109241e+01],\n",
       "       [ 4.08625028e+01,  4.69513076e+01],\n",
       "       [ 7.78243710e+01,  2.01097566e+01],\n",
       "       [ 8.88086135e+01,  2.91969338e+01],\n",
       "       [ 6.38271712e+01,  7.51551955e+01],\n",
       "       [ 1.19035969e+01,  2.47255416e+01],\n",
       "       [ 2.78827776e+01,  2.98333040e+01],\n",
       "       [ 6.48301055e+01,  5.91235414e+01],\n",
       "       [ 6.38328835e+01,  5.31034215e+01],\n",
       "       [ 7.08129185e+01,  9.72489676e+01],\n",
       "       [ 7.28333274e+01,  9.05387094e+00],\n",
       "       [ 1.18937302e+01,  6.28149695e+01],\n",
       "       [ 9.87883638e+01,  6.03298854e+01],\n",
       "       [ 3.48815074e+01,  1.80940786e+00],\n",
       "       [ 5.98432163e+01,  3.20300019e+01],\n",
       "       [ 9.37882325e+01,  8.43563675e+01],\n",
       "       [ 6.28421526e+01,  2.20244674e+01],\n",
       "       [ 8.08017565e+01,  9.32995514e+01],\n",
       "       [ 3.28826492e+01,  6.80917524e+00],\n",
       "       [ 4.18615424e+01,  4.59549540e+01],\n",
       "       [ 5.38546911e+01,  1.59563497e+01],\n",
       "       [ 4.88537809e+01,  4.29898920e+01],\n",
       "       [ 9.47916861e+01,  6.63200067e+01],\n",
       "       [ 2.08900198e+01,  3.48030728e+01],\n",
       "       [ 7.98175169e+01,  3.71617632e+01],\n",
       "       [ 5.38443052e+01,  5.60504843e+01],\n",
       "       [ 9.15200031e-01,  3.16760182e+01],\n",
       "       [ 5.78456565e+01,  3.20180025e+01],\n",
       "       [ 4.58499113e+01,  7.20401404e+01],\n",
       "       [ 1.68788019e+01,  9.69249825e+01],\n",
       "       [ 9.27876350e+01,  9.13668413e+01],\n",
       "       [ 3.68785479e+01,  3.82611404e+00],\n",
       "       [ 5.38456034e+01,  5.10387175e+01],\n",
       "       [ 2.68798433e+01,  4.58649581e+01],\n",
       "       [ 9.17935288e+01,  7.33184811e+01],\n",
       "       [ 7.68071560e+01,  9.12708458e+01],\n",
       "       [ 6.08245998e+01,  9.91936771e+01],\n",
       "       [ 3.90115390e+00,  7.17881520e+01],\n",
       "       [ 1.88867477e+01,  5.68428473e+01],\n",
       "       [ 7.78228131e+01,  2.61238768e+01],\n",
       "       [ 7.38110759e+01,  9.02504932e+01],\n",
       "       [ 6.58408293e+01,  1.30212863e+01],\n",
       "       [ 3.98559334e+01,  7.70159089e+01],\n",
       "       [ 6.68235110e+01,  7.51731947e+01],\n",
       "       [ 2.28849832e+01,  4.48386059e+01],\n",
       "       [ 5.88413206e+01,  4.40522426e+01],\n",
       "       [ 2.28823867e+01,  5.48621395e+01],\n",
       "       [ 5.48329588e+01,  9.51482653e+01],\n",
       "       [ 1.19090495e+01,  3.67612093e+00],\n",
       "       [ 6.89022356e+00,  9.98720453e+01],\n",
       "       [ 4.78552606e+01,  4.19815389e+01],\n",
       "       [ 9.57974766e+01,  3.92624655e+01],\n",
       "       [ 9.97801332e+01,  8.73994260e+01],\n",
       "       [ 1.39040129e+01,  1.37116540e+01],\n",
       "       [ 3.68782883e+01,  4.82846740e+00],\n",
       "       [ 8.77937353e+01,  9.13368427e+01],\n",
       "       [ 6.48262108e+01,  7.41588419e+01],\n",
       "       [ 5.58522510e+01,  1.59683492e+01],\n",
       "       [ 4.91135838e+00,  2.76906036e+01],\n",
       "       [ 9.18005393e+01,  4.62549402e+01],\n",
       "       [ 5.38487192e+01,  3.90104771e+01],\n",
       "       [ 4.38629970e+01,  3.09316530e+01],\n",
       "       [ 6.78194348e+01,  8.62050814e+01],\n",
       "       [ 8.98050566e+01,  3.82241138e+01],\n",
       "       [ 2.08744409e+01,  9.49442747e+01],\n",
       "       [ 5.58408264e+01,  6.00718972e+01],\n",
       "       [ 6.48251722e+01,  7.81682553e+01],\n",
       "       [ 8.88145854e+01,  6.14280643e+00],\n",
       "       [ 6.68336373e+01,  3.60814134e+01],\n",
       "       [ 1.58792430e+01,  9.99260429e+01],\n",
       "       [ 4.48508717e+01,  7.30364940e+01],\n",
       "       [ 5.68499923e+01,  1.99837624e+01],\n",
       "       [ 7.58231760e+01,  3.41307042e+01],\n",
       "       [ 5.48389307e+01,  7.20941379e+01],\n",
       "       [ 5.48555482e+01,  7.94352253e+00],\n",
       "       [ 5.58377107e+01,  7.21001376e+01],\n",
       "       [ 5.78524073e+01,  5.95681498e+00],\n",
       "       [ 9.58016309e+01,  2.32248117e+01],\n",
       "       [ 5.78479933e+01,  2.29968222e+01],\n",
       "       [ 1.88950564e+01,  2.47675397e+01],\n",
       "       [ 6.38411922e+01,  2.10281138e+01],\n",
       "       [ 5.88478118e+01,  1.89934084e+01],\n",
       "       [ 1.58943026e+01,  4.17895477e+01],\n",
       "       [ 4.28564276e+01,  6.09962542e+01],\n",
       "       [ 9.18096270e+01,  1.11725724e+01],\n",
       "       [ 4.08744466e+01,  8.43052841e-01],\n",
       "       [ 7.89653330e+00,  7.08097975e+01],\n",
       "       [ 4.58543253e+01,  5.50001332e+01],\n",
       "       [ 6.18368815e+01,  4.70773018e+01]])"
      ]
     },
     "execution_count": 115,
     "metadata": {},
     "output_type": "execute_result"
    }
   ],
   "source": [
    "y_pred = sk_model.predict(X_test)\n",
    "y_pred"
   ]
  },
  {
   "cell_type": "code",
   "execution_count": 120,
   "id": "f4da8f74",
   "metadata": {},
   "outputs": [
    {
     "data": {
      "text/plain": [
       "0.9886415895986772"
      ]
     },
     "execution_count": 120,
     "metadata": {},
     "output_type": "execute_result"
    }
   ],
   "source": [
    "sk_model_result = r2_score(y_test, y_pred)\n",
    "sk_model_result"
   ]
  },
  {
   "cell_type": "code",
   "execution_count": 101,
   "id": "29dc8c07",
   "metadata": {},
   "outputs": [
    {
     "data": {
      "image/png": "[encoded data removed]",
      "text/plain": [
       "<Figure size 640x480 with 1 Axes>"
      ]
     },
     "metadata": {},
     "output_type": "display_data"
    }
   ],
   "source": [
    "plt.scatter(X_test, y_test, color=\"red\", label=\"true value\")\n",
    "plt.plot(X_test, y_pred, color=\"blue\", label=\"predicted value\")\n",
    "plt.title(\"Predicted X_test and y_test\")\n",
    "plt.xlabel(\"X_test\")\n",
    "plt.ylabel(\"y_test\")\n",
    "plt.legend()\n",
    "plt.show()\n"
   ]
  },
  {
   "cell_type": "markdown",
   "id": "bbc0b100",
   "metadata": {},
   "source": [
    "## Make a prediction with tensorflow"
   ]
  },
  {
   "cell_type": "code",
   "execution_count": 109,
   "id": "98c2f755",
   "metadata": {},
   "outputs": [],
   "source": [
    "# Set random seed\n",
    "tf.random.set_seed(42)\n",
    "\n",
    "tf_model = tf.keras.Sequential([\n",
    "  tf.keras.layers.Dense(100, input_shape=(None, 1)),\n",
    "  tf.keras.layers.Dense(10), \n",
    "  tf.keras.layers.Dense(1)\n",
    "])"
   ]
  },
  {
   "cell_type": "code",
   "execution_count": 110,
   "id": "ce4dae3e",
   "metadata": {},
   "outputs": [],
   "source": [
    "tf_model.compile(loss=tf.keras.losses.mae,\n",
    "                          optimizer=tf.keras.optimizers.legacy.Adam(),\n",
    "                          metrics=['mae'])"
   ]
  },
  {
   "cell_type": "code",
   "execution_count": 111,
   "id": "11338186",
   "metadata": {},
   "outputs": [
    {
     "name": "stdout",
     "output_type": "stream",
     "text": [
      "Epoch 1/100\n",
      "11/11 [==============================] - 1s 39ms/step - loss: 20.6767 - mae: 20.6767 - val_loss: 4.7916 - val_mae: 4.7916\n",
      "Epoch 2/100\n",
      "11/11 [==============================] - 0s 17ms/step - loss: 5.2463 - mae: 5.2463 - val_loss: 3.9076 - val_mae: 3.9076\n",
      "Epoch 3/100\n",
      "11/11 [==============================] - 0s 16ms/step - loss: 3.2236 - mae: 3.2236 - val_loss: 2.9732 - val_mae: 2.9732\n",
      "Epoch 4/100\n",
      "11/11 [==============================] - 0s 16ms/step - loss: 2.5887 - mae: 2.5887 - val_loss: 2.4441 - val_mae: 2.4441\n",
      "Epoch 5/100\n",
      "11/11 [==============================] - 0s 16ms/step - loss: 2.3653 - mae: 2.3653 - val_loss: 2.5906 - val_mae: 2.5906\n",
      "Epoch 6/100\n",
      "11/11 [==============================] - 0s 16ms/step - loss: 2.3526 - mae: 2.3526 - val_loss: 2.6083 - val_mae: 2.6083\n",
      "Epoch 7/100\n",
      "11/11 [==============================] - 0s 17ms/step - loss: 2.2933 - mae: 2.2933 - val_loss: 2.5138 - val_mae: 2.5138\n",
      "Epoch 8/100\n",
      "11/11 [==============================] - 0s 16ms/step - loss: 2.3149 - mae: 2.3149 - val_loss: 2.4327 - val_mae: 2.4327\n",
      "Epoch 9/100\n",
      "11/11 [==============================] - 0s 16ms/step - loss: 2.2538 - mae: 2.2538 - val_loss: 2.4167 - val_mae: 2.4167\n",
      "Epoch 10/100\n",
      "11/11 [==============================] - 0s 16ms/step - loss: 2.2508 - mae: 2.2508 - val_loss: 2.4165 - val_mae: 2.4165\n",
      "Epoch 11/100\n",
      "11/11 [==============================] - 0s 17ms/step - loss: 2.2504 - mae: 2.2504 - val_loss: 2.4549 - val_mae: 2.4549\n",
      "Epoch 12/100\n",
      "11/11 [==============================] - 0s 16ms/step - loss: 2.2546 - mae: 2.2546 - val_loss: 2.4471 - val_mae: 2.4471\n",
      "Epoch 13/100\n",
      "11/11 [==============================] - 0s 16ms/step - loss: 2.2404 - mae: 2.2404 - val_loss: 2.4153 - val_mae: 2.4153\n",
      "Epoch 14/100\n",
      "11/11 [==============================] - 0s 17ms/step - loss: 2.2530 - mae: 2.2530 - val_loss: 2.4206 - val_mae: 2.4206\n",
      "Epoch 15/100\n",
      "11/11 [==============================] - 0s 17ms/step - loss: 2.2484 - mae: 2.2484 - val_loss: 2.4114 - val_mae: 2.4114\n",
      "Epoch 16/100\n",
      "11/11 [==============================] - 0s 16ms/step - loss: 2.2537 - mae: 2.2537 - val_loss: 2.4371 - val_mae: 2.4371\n",
      "Epoch 17/100\n",
      "11/11 [==============================] - 0s 16ms/step - loss: 2.2926 - mae: 2.2926 - val_loss: 2.4784 - val_mae: 2.4784\n",
      "Epoch 18/100\n",
      "11/11 [==============================] - 0s 17ms/step - loss: 2.2306 - mae: 2.2306 - val_loss: 2.4798 - val_mae: 2.4798\n",
      "Epoch 19/100\n",
      "11/11 [==============================] - 0s 17ms/step - loss: 2.2694 - mae: 2.2694 - val_loss: 2.4096 - val_mae: 2.4096\n",
      "Epoch 20/100\n",
      "11/11 [==============================] - 0s 20ms/step - loss: 2.2700 - mae: 2.2700 - val_loss: 2.4303 - val_mae: 2.4303\n",
      "Epoch 21/100\n",
      "11/11 [==============================] - 0s 18ms/step - loss: 2.2477 - mae: 2.2477 - val_loss: 2.5738 - val_mae: 2.5738\n",
      "Epoch 22/100\n",
      "11/11 [==============================] - 0s 17ms/step - loss: 2.2983 - mae: 2.2983 - val_loss: 2.5191 - val_mae: 2.5191\n",
      "Epoch 23/100\n",
      "11/11 [==============================] - 0s 17ms/step - loss: 2.3070 - mae: 2.3070 - val_loss: 2.4085 - val_mae: 2.4085\n",
      "Epoch 24/100\n",
      "11/11 [==============================] - 0s 17ms/step - loss: 2.2553 - mae: 2.2553 - val_loss: 2.4575 - val_mae: 2.4575\n",
      "Epoch 25/100\n",
      "11/11 [==============================] - 0s 17ms/step - loss: 2.2898 - mae: 2.2898 - val_loss: 2.4083 - val_mae: 2.4083\n",
      "Epoch 26/100\n",
      "11/11 [==============================] - 0s 16ms/step - loss: 2.3518 - mae: 2.3518 - val_loss: 2.4580 - val_mae: 2.4580\n",
      "Epoch 27/100\n",
      "11/11 [==============================] - 0s 16ms/step - loss: 2.3355 - mae: 2.3355 - val_loss: 2.4203 - val_mae: 2.4203\n",
      "Epoch 28/100\n",
      "11/11 [==============================] - 0s 16ms/step - loss: 2.2900 - mae: 2.2900 - val_loss: 2.4075 - val_mae: 2.4075\n",
      "Epoch 29/100\n",
      "11/11 [==============================] - 0s 18ms/step - loss: 2.2680 - mae: 2.2680 - val_loss: 2.4609 - val_mae: 2.4609\n",
      "Epoch 30/100\n",
      "11/11 [==============================] - 0s 18ms/step - loss: 2.2747 - mae: 2.2747 - val_loss: 2.5568 - val_mae: 2.5568\n",
      "Epoch 31/100\n",
      "11/11 [==============================] - 0s 17ms/step - loss: 2.2949 - mae: 2.2949 - val_loss: 2.5449 - val_mae: 2.5449\n",
      "Epoch 32/100\n",
      "11/11 [==============================] - 0s 17ms/step - loss: 2.2838 - mae: 2.2838 - val_loss: 2.4825 - val_mae: 2.4825\n",
      "Epoch 33/100\n",
      "11/11 [==============================] - 0s 17ms/step - loss: 2.3278 - mae: 2.3278 - val_loss: 2.4412 - val_mae: 2.4412\n",
      "Epoch 34/100\n",
      "11/11 [==============================] - 0s 16ms/step - loss: 2.2915 - mae: 2.2915 - val_loss: 2.4279 - val_mae: 2.4279\n",
      "Epoch 35/100\n",
      "11/11 [==============================] - 0s 17ms/step - loss: 2.2563 - mae: 2.2563 - val_loss: 2.4068 - val_mae: 2.4068\n",
      "Epoch 36/100\n",
      "11/11 [==============================] - 0s 17ms/step - loss: 2.2647 - mae: 2.2647 - val_loss: 2.4993 - val_mae: 2.4993\n",
      "Epoch 37/100\n",
      "11/11 [==============================] - 0s 17ms/step - loss: 2.2743 - mae: 2.2743 - val_loss: 2.4148 - val_mae: 2.4148\n",
      "Epoch 38/100\n",
      "11/11 [==============================] - 0s 17ms/step - loss: 2.2574 - mae: 2.2574 - val_loss: 2.4235 - val_mae: 2.4235\n",
      "Epoch 39/100\n",
      "11/11 [==============================] - 0s 16ms/step - loss: 2.2485 - mae: 2.2485 - val_loss: 2.4082 - val_mae: 2.4082\n",
      "Epoch 40/100\n",
      "11/11 [==============================] - 0s 17ms/step - loss: 2.2468 - mae: 2.2468 - val_loss: 2.5759 - val_mae: 2.5759\n",
      "Epoch 41/100\n",
      "11/11 [==============================] - 0s 17ms/step - loss: 2.3096 - mae: 2.3096 - val_loss: 2.5316 - val_mae: 2.5316\n",
      "Epoch 42/100\n",
      "11/11 [==============================] - 0s 16ms/step - loss: 2.2646 - mae: 2.2646 - val_loss: 2.4653 - val_mae: 2.4653\n",
      "Epoch 43/100\n",
      "11/11 [==============================] - 0s 17ms/step - loss: 2.3404 - mae: 2.3404 - val_loss: 2.5364 - val_mae: 2.5364\n",
      "Epoch 44/100\n",
      "11/11 [==============================] - 0s 17ms/step - loss: 2.3414 - mae: 2.3414 - val_loss: 2.4279 - val_mae: 2.4279\n",
      "Epoch 45/100\n",
      "11/11 [==============================] - 0s 18ms/step - loss: 2.3120 - mae: 2.3120 - val_loss: 2.4366 - val_mae: 2.4366\n",
      "Epoch 46/100\n",
      "11/11 [==============================] - 0s 18ms/step - loss: 2.2653 - mae: 2.2653 - val_loss: 2.5982 - val_mae: 2.5982\n",
      "Epoch 47/100\n",
      "11/11 [==============================] - 0s 24ms/step - loss: 2.3878 - mae: 2.3878 - val_loss: 2.5826 - val_mae: 2.5826\n",
      "Epoch 48/100\n",
      "11/11 [==============================] - 0s 20ms/step - loss: 2.3224 - mae: 2.3224 - val_loss: 2.4361 - val_mae: 2.4361\n",
      "Epoch 49/100\n",
      "11/11 [==============================] - 0s 22ms/step - loss: 2.3903 - mae: 2.3903 - val_loss: 2.4189 - val_mae: 2.4189\n",
      "Epoch 50/100\n",
      "11/11 [==============================] - 0s 26ms/step - loss: 2.3921 - mae: 2.3921 - val_loss: 2.4453 - val_mae: 2.4453\n",
      "Epoch 51/100\n",
      "11/11 [==============================] - 0s 38ms/step - loss: 2.3035 - mae: 2.3035 - val_loss: 2.4059 - val_mae: 2.4059\n",
      "Epoch 52/100\n",
      "11/11 [==============================] - 0s 38ms/step - loss: 2.2549 - mae: 2.2549 - val_loss: 2.4067 - val_mae: 2.4067\n",
      "Epoch 53/100\n",
      "11/11 [==============================] - 0s 28ms/step - loss: 2.2937 - mae: 2.2937 - val_loss: 2.4515 - val_mae: 2.4515\n",
      "Epoch 54/100\n",
      "11/11 [==============================] - 0s 24ms/step - loss: 2.2405 - mae: 2.2405 - val_loss: 2.4065 - val_mae: 2.4065\n",
      "Epoch 55/100\n",
      "11/11 [==============================] - 0s 20ms/step - loss: 2.2651 - mae: 2.2651 - val_loss: 2.4163 - val_mae: 2.4163\n",
      "Epoch 56/100\n",
      "11/11 [==============================] - 0s 24ms/step - loss: 2.3588 - mae: 2.3588 - val_loss: 2.5142 - val_mae: 2.5142\n",
      "Epoch 57/100\n",
      "11/11 [==============================] - 0s 37ms/step - loss: 2.4096 - mae: 2.4096 - val_loss: 2.4362 - val_mae: 2.4362\n",
      "Epoch 58/100\n",
      "11/11 [==============================] - 0s 26ms/step - loss: 2.3297 - mae: 2.3297 - val_loss: 2.4054 - val_mae: 2.4054\n",
      "Epoch 59/100\n",
      "11/11 [==============================] - 0s 18ms/step - loss: 2.3431 - mae: 2.3431 - val_loss: 2.4399 - val_mae: 2.4399\n",
      "Epoch 60/100\n",
      "11/11 [==============================] - 0s 18ms/step - loss: 2.3525 - mae: 2.3525 - val_loss: 2.4364 - val_mae: 2.4364\n",
      "Epoch 61/100\n",
      "11/11 [==============================] - 0s 17ms/step - loss: 2.2418 - mae: 2.2418 - val_loss: 2.5094 - val_mae: 2.5094\n",
      "Epoch 62/100\n"
     ]
    },
    {
     "name": "stdout",
     "output_type": "stream",
     "text": [
      "11/11 [==============================] - 0s 16ms/step - loss: 2.2667 - mae: 2.2667 - val_loss: 2.4532 - val_mae: 2.4532\n",
      "Epoch 63/100\n",
      "11/11 [==============================] - 0s 19ms/step - loss: 2.2763 - mae: 2.2763 - val_loss: 2.4044 - val_mae: 2.4044\n",
      "Epoch 64/100\n",
      "11/11 [==============================] - 0s 18ms/step - loss: 2.3006 - mae: 2.3006 - val_loss: 2.4073 - val_mae: 2.4073\n",
      "Epoch 65/100\n",
      "11/11 [==============================] - 0s 18ms/step - loss: 2.2775 - mae: 2.2775 - val_loss: 2.4132 - val_mae: 2.4132\n",
      "Epoch 66/100\n",
      "11/11 [==============================] - 0s 17ms/step - loss: 2.2553 - mae: 2.2553 - val_loss: 2.4550 - val_mae: 2.4550\n",
      "Epoch 67/100\n",
      "11/11 [==============================] - 0s 16ms/step - loss: 2.2541 - mae: 2.2541 - val_loss: 2.4404 - val_mae: 2.4404\n",
      "Epoch 68/100\n",
      "11/11 [==============================] - 0s 17ms/step - loss: 2.2637 - mae: 2.2637 - val_loss: 2.4590 - val_mae: 2.4590\n",
      "Epoch 69/100\n",
      "11/11 [==============================] - 0s 17ms/step - loss: 2.3037 - mae: 2.3037 - val_loss: 2.4765 - val_mae: 2.4765\n",
      "Epoch 70/100\n",
      "11/11 [==============================] - 1s 51ms/step - loss: 2.2494 - mae: 2.2494 - val_loss: 2.4487 - val_mae: 2.4487\n",
      "Epoch 71/100\n",
      "11/11 [==============================] - 0s 42ms/step - loss: 2.2528 - mae: 2.2528 - val_loss: 2.4206 - val_mae: 2.4206\n",
      "Epoch 72/100\n",
      "11/11 [==============================] - 0s 22ms/step - loss: 2.2405 - mae: 2.2405 - val_loss: 2.4332 - val_mae: 2.4332\n",
      "Epoch 73/100\n",
      "11/11 [==============================] - 0s 33ms/step - loss: 2.3117 - mae: 2.3117 - val_loss: 2.5012 - val_mae: 2.5012\n",
      "Epoch 74/100\n",
      "11/11 [==============================] - 0s 27ms/step - loss: 2.3161 - mae: 2.3161 - val_loss: 2.4469 - val_mae: 2.4469\n",
      "Epoch 75/100\n",
      "11/11 [==============================] - 0s 31ms/step - loss: 2.3342 - mae: 2.3342 - val_loss: 2.4110 - val_mae: 2.4110\n",
      "Epoch 76/100\n",
      "11/11 [==============================] - 0s 25ms/step - loss: 2.2499 - mae: 2.2499 - val_loss: 2.5134 - val_mae: 2.5134\n",
      "Epoch 77/100\n",
      "11/11 [==============================] - 0s 18ms/step - loss: 2.2851 - mae: 2.2851 - val_loss: 2.5288 - val_mae: 2.5288\n",
      "Epoch 78/100\n",
      "11/11 [==============================] - 0s 16ms/step - loss: 2.3437 - mae: 2.3437 - val_loss: 2.4459 - val_mae: 2.4459\n",
      "Epoch 79/100\n",
      "11/11 [==============================] - 0s 17ms/step - loss: 2.2612 - mae: 2.2612 - val_loss: 2.4074 - val_mae: 2.4074\n",
      "Epoch 80/100\n",
      "11/11 [==============================] - 0s 16ms/step - loss: 2.2378 - mae: 2.2378 - val_loss: 2.4218 - val_mae: 2.4218\n",
      "Epoch 81/100\n",
      "11/11 [==============================] - 0s 16ms/step - loss: 2.2749 - mae: 2.2749 - val_loss: 2.5315 - val_mae: 2.5315\n",
      "Epoch 82/100\n",
      "11/11 [==============================] - 0s 16ms/step - loss: 2.4159 - mae: 2.4159 - val_loss: 2.6379 - val_mae: 2.6379\n",
      "Epoch 83/100\n",
      "11/11 [==============================] - 0s 16ms/step - loss: 2.3027 - mae: 2.3027 - val_loss: 2.6759 - val_mae: 2.6759\n",
      "Epoch 84/100\n",
      "11/11 [==============================] - 0s 17ms/step - loss: 2.3075 - mae: 2.3075 - val_loss: 2.5251 - val_mae: 2.5251\n",
      "Epoch 85/100\n",
      "11/11 [==============================] - 0s 18ms/step - loss: 2.2674 - mae: 2.2674 - val_loss: 2.5467 - val_mae: 2.5467\n",
      "Epoch 86/100\n",
      "11/11 [==============================] - 0s 17ms/step - loss: 2.2539 - mae: 2.2539 - val_loss: 2.4253 - val_mae: 2.4253\n",
      "Epoch 87/100\n",
      "11/11 [==============================] - 0s 16ms/step - loss: 2.2356 - mae: 2.2356 - val_loss: 2.5139 - val_mae: 2.5139\n",
      "Epoch 88/100\n",
      "11/11 [==============================] - 0s 16ms/step - loss: 2.2544 - mae: 2.2544 - val_loss: 2.5097 - val_mae: 2.5097\n",
      "Epoch 89/100\n",
      "11/11 [==============================] - 0s 17ms/step - loss: 2.2482 - mae: 2.2482 - val_loss: 2.4205 - val_mae: 2.4205\n",
      "Epoch 90/100\n",
      "11/11 [==============================] - 0s 17ms/step - loss: 2.2344 - mae: 2.2344 - val_loss: 2.4765 - val_mae: 2.4765\n",
      "Epoch 91/100\n",
      "11/11 [==============================] - 0s 16ms/step - loss: 2.2687 - mae: 2.2687 - val_loss: 2.4318 - val_mae: 2.4318\n",
      "Epoch 92/100\n",
      "11/11 [==============================] - 0s 16ms/step - loss: 2.2339 - mae: 2.2339 - val_loss: 2.4182 - val_mae: 2.4182\n",
      "Epoch 93/100\n",
      "11/11 [==============================] - 0s 17ms/step - loss: 2.2388 - mae: 2.2388 - val_loss: 2.4039 - val_mae: 2.4039\n",
      "Epoch 94/100\n",
      "11/11 [==============================] - 0s 16ms/step - loss: 2.2356 - mae: 2.2356 - val_loss: 2.4286 - val_mae: 2.4286\n",
      "Epoch 95/100\n",
      "11/11 [==============================] - 0s 16ms/step - loss: 2.2486 - mae: 2.2486 - val_loss: 2.4780 - val_mae: 2.4780\n",
      "Epoch 96/100\n",
      "11/11 [==============================] - 0s 18ms/step - loss: 2.2930 - mae: 2.2930 - val_loss: 2.4062 - val_mae: 2.4062\n",
      "Epoch 97/100\n",
      "11/11 [==============================] - 0s 17ms/step - loss: 2.2652 - mae: 2.2652 - val_loss: 2.4120 - val_mae: 2.4120\n",
      "Epoch 98/100\n",
      "11/11 [==============================] - 0s 17ms/step - loss: 2.2451 - mae: 2.2451 - val_loss: 2.4046 - val_mae: 2.4046\n",
      "Epoch 99/100\n",
      "11/11 [==============================] - 0s 16ms/step - loss: 2.2341 - mae: 2.2341 - val_loss: 2.4057 - val_mae: 2.4057\n",
      "Epoch 100/100\n",
      "11/11 [==============================] - 0s 16ms/step - loss: 2.2458 - mae: 2.2458 - val_loss: 2.4038 - val_mae: 2.4038\n"
     ]
    },
    {
     "data": {
      "text/plain": [
       "<keras.callbacks.History at 0x29a8f6ef0>"
      ]
     },
     "execution_count": 111,
     "metadata": {},
     "output_type": "execute_result"
    }
   ],
   "source": [
    "tf_model.fit(X_train,\n",
    "             y_train, \n",
    "             validation_data=(X_test, y_test),\n",
    "             epochs=100)"
   ]
  },
  {
   "cell_type": "code",
   "execution_count": 117,
   "id": "cfda8b18",
   "metadata": {},
   "outputs": [
    {
     "name": "stdout",
     "output_type": "stream",
     "text": [
      "5/5 [==============================] - 0s 8ms/step\n"
     ]
    },
    {
     "data": {
      "text/plain": [
       "array([[ 77.20623   ,  20.91261   ],\n",
       "       [ 21.917852  ,  19.907366  ],\n",
       "       [ 35.991257  ,  14.88115   ],\n",
       "       [ 62.127583  ,  95.300606  ],\n",
       "       [ 19.907366  ,   4.8287187 ],\n",
       "       [  3.8234751 ,  18.902122  ],\n",
       "       [ 96.30585   ,  62.127583  ],\n",
       "       [ 35.991257  ,  14.88115   ],\n",
       "       [ 65.14331   ,  13.875908  ],\n",
       "       [ 87.25867   ,  69.16428   ],\n",
       "       [ 89.26914   ,  51.0699    ],\n",
       "       [ 89.26914   ,  26.944069  ],\n",
       "       [ 97.31109   ,  58.10661   ],\n",
       "       [ 79.21672   ,  20.91261   ],\n",
       "       [ 93.29013   ,  26.944069  ],\n",
       "       [ 99.32158   ,  30.965042  ],\n",
       "       [ 32.97553   ,  80.22197   ],\n",
       "       [ 27.949312  ,  47.04894   ],\n",
       "       [ 53.08039   ,  69.16428   ],\n",
       "       [ 27.949312  ,  32.97553   ],\n",
       "       [ 91.27964   ,  71.17477   ],\n",
       "       [ 50.064663  ,  76.20098   ],\n",
       "       [  3.8234751 ,  36.996502  ],\n",
       "       [ 70.169525  ,  68.15905   ],\n",
       "       [ 40.01223   ,  34.986015  ],\n",
       "       [ 94.295364  ,  88.26391   ],\n",
       "       [ 52.07515   ,  30.965042  ],\n",
       "       [ 59.11185   ,  -0.19749758],\n",
       "       [ 39.006992  ,  64.13807   ],\n",
       "       [ 69.16428   ,  57.101368  ],\n",
       "       [ 12.870665  ,  72.180016  ],\n",
       "       [ 76.20098   ,  61.122337  ],\n",
       "       [ 82.23244   ,  17.896881  ],\n",
       "       [ 41.017475  ,  50.064663  ],\n",
       "       [ 55.090874  ,  12.870665  ],\n",
       "       [ 46.043694  ,  12.870665  ],\n",
       "       [ 79.21672   ,  53.08039   ],\n",
       "       [ 14.88115   ,  27.949312  ],\n",
       "       [ 81.2272    ,  69.16428   ],\n",
       "       [ 52.07515   ,  84.242935  ],\n",
       "       [ 68.15905   ,  26.944069  ],\n",
       "       [ 56.096123  ,  48.054173  ],\n",
       "       [ 40.01223   ,  39.006992  ],\n",
       "       [ 82.23244   , 100.32683   ],\n",
       "       [ 59.11185   ,  43.027958  ],\n",
       "       [ 67.1538    ,  38.001747  ],\n",
       "       [ 63.132828  ,  91.27964   ],\n",
       "       [ 60.117092  ,  13.875908  ],\n",
       "       [ 20.91261   ,  87.25867   ],\n",
       "       [ 73.18526   ,  31.970285  ],\n",
       "       [  1.8129889 ,  82.23244   ],\n",
       "       [ 18.902122  ,  74.190506  ],\n",
       "       [ 42.022717  ,  11.865422  ],\n",
       "       [  0.8077456 ,  90.27438   ],\n",
       "       [ 89.26914   ,  -0.19749758],\n",
       "       [ 41.017475  ,  15.886394  ],\n",
       "       [ 94.295364  ,  97.31109   ],\n",
       "       [ 66.14856   ,  23.928339  ],\n",
       "       [ 16.891636  ,  90.27438   ],\n",
       "       [ 12.870665  ,  -0.19749758],\n",
       "       [ 64.13807   ,  96.30585   ],\n",
       "       [ 98.31635   ,  11.865422  ],\n",
       "       [ 41.017475  ,  47.04894   ],\n",
       "       [ 78.21147   ,  19.907366  ],\n",
       "       [ 89.26914   ,  28.954557  ],\n",
       "       [ 64.13807   ,  75.19574   ],\n",
       "       [ 11.865422  ,  24.933584  ],\n",
       "       [ 27.949312  ,  29.9598    ],\n",
       "       [ 65.14331   ,  59.11185   ],\n",
       "       [ 64.13807   ,  53.08039   ],\n",
       "       [ 71.17477   ,  97.31109   ],\n",
       "       [ 73.18526   ,   8.849692  ],\n",
       "       [ 11.865422  ,  63.132828  ],\n",
       "       [ 99.32158   ,  60.117092  ],\n",
       "       [ 34.986015  ,   1.8129889 ],\n",
       "       [ 60.117092  ,  31.970285  ],\n",
       "       [ 94.295364  ,  84.242935  ],\n",
       "       [ 63.132828  ,  21.917852  ],\n",
       "       [ 81.2272    ,  93.29013   ],\n",
       "       [ 32.97553   ,   6.8392053 ],\n",
       "       [ 42.022717  ,  46.043694  ],\n",
       "       [ 54.085632  ,  15.886394  ],\n",
       "       [ 49.059418  ,  43.027958  ],\n",
       "       [ 95.300606  ,  66.14856   ],\n",
       "       [ 20.91261   ,  34.986015  ],\n",
       "       [ 80.22197   ,  36.996502  ],\n",
       "       [ 54.085632  ,  56.096123  ],\n",
       "       [  0.8077456 ,  31.970285  ],\n",
       "       [ 58.10661   ,  31.970285  ],\n",
       "       [ 46.043694  ,  72.180016  ],\n",
       "       [ 16.891636  ,  97.31109   ],\n",
       "       [ 93.29013   ,  91.27964   ],\n",
       "       [ 36.996502  ,   3.8234751 ],\n",
       "       [ 54.085632  ,  51.0699    ],\n",
       "       [ 26.944069  ,  46.043694  ],\n",
       "       [ 92.28488   ,  73.18526   ],\n",
       "       [ 77.20623   ,  91.27964   ],\n",
       "       [ 61.122337  ,  99.32158   ],\n",
       "       [  3.8234751 ,  72.180016  ],\n",
       "       [ 18.902122  ,  57.101368  ],\n",
       "       [ 78.21147   ,  25.938828  ],\n",
       "       [ 74.190506  ,  90.27438   ],\n",
       "       [ 66.14856   ,  12.870665  ],\n",
       "       [ 40.01223   ,  77.20623   ],\n",
       "       [ 67.1538    ,  75.19574   ],\n",
       "       [ 22.923096  ,  45.03845   ],\n",
       "       [ 59.11185   ,  44.03321   ],\n",
       "       [ 22.923096  ,  55.090874  ],\n",
       "       [ 55.090874  ,  95.300606  ],\n",
       "       [ 11.865422  ,   3.8234751 ],\n",
       "       [  6.8392053 , 100.32683   ],\n",
       "       [ 48.054173  ,  42.022717  ],\n",
       "       [ 96.30585   ,  39.006992  ],\n",
       "       [100.32683   ,  87.25867   ],\n",
       "       [ 13.875908  ,  13.875908  ],\n",
       "       [ 36.996502  ,   4.8287187 ],\n",
       "       [ 88.26391   ,  91.27964   ],\n",
       "       [ 65.14331   ,  74.190506  ],\n",
       "       [ 56.096123  ,  15.886394  ],\n",
       "       [  4.8287187 ,  27.949312  ],\n",
       "       [ 92.28488   ,  46.043694  ],\n",
       "       [ 54.085632  ,  39.006992  ],\n",
       "       [ 44.03321   ,  30.965042  ],\n",
       "       [ 68.15905   ,  86.25342   ],\n",
       "       [ 90.27438   ,  38.001747  ],\n",
       "       [ 20.91261   ,  95.300606  ],\n",
       "       [ 56.096123  ,  60.117092  ],\n",
       "       [ 65.14331   ,  78.21147   ],\n",
       "       [ 89.26914   ,   5.8339615 ],\n",
       "       [ 67.1538    ,  35.991257  ],\n",
       "       [ 15.886394  , 100.32683   ],\n",
       "       [ 45.03845   ,  73.18526   ],\n",
       "       [ 57.101368  ,  19.907366  ],\n",
       "       [ 76.20098   ,  33.980774  ],\n",
       "       [ 55.090874  ,  72.180016  ],\n",
       "       [ 55.090874  ,   7.8444486 ],\n",
       "       [ 56.096123  ,  72.180016  ],\n",
       "       [ 58.10661   ,   5.8339615 ],\n",
       "       [ 96.30585   ,  22.923096  ],\n",
       "       [ 58.10661   ,  22.923096  ],\n",
       "       [ 18.902122  ,  24.933584  ],\n",
       "       [ 64.13807   ,  20.91261   ],\n",
       "       [ 59.11185   ,  18.902122  ],\n",
       "       [ 15.886394  ,  42.022717  ],\n",
       "       [ 43.027958  ,  61.122337  ],\n",
       "       [ 92.28488   ,  10.860177  ],\n",
       "       [ 41.017475  ,   0.8077456 ],\n",
       "       [  7.8444486 ,  71.17477   ],\n",
       "       [ 46.043694  ,  55.090874  ],\n",
       "       [ 62.127583  ,  47.04894   ]], dtype=float32)"
      ]
     },
     "execution_count": 117,
     "metadata": {},
     "output_type": "execute_result"
    }
   ],
   "source": [
    "tf_y_pred = tf_model.predict(X_test).reshape(-1, 2)\n",
    "tf_y_pred"
   ]
  },
  {
   "cell_type": "code",
   "execution_count": 121,
   "id": "15fac05b",
   "metadata": {},
   "outputs": [
    {
     "data": {
      "text/plain": [
       "0.9888742861739742"
      ]
     },
     "execution_count": 121,
     "metadata": {},
     "output_type": "execute_result"
    }
   ],
   "source": [
    "tf_model_result = r2_score(y_test, tf_y_pred)\n",
    "tf_model_result"
   ]
  },
  {
   "cell_type": "code",
   "execution_count": 123,
   "id": "4c30fc8a",
   "metadata": {},
   "outputs": [
    {
     "data": {
      "text/plain": [
       "-0.00023269657529700893"
      ]
     },
     "execution_count": 123,
     "metadata": {},
     "output_type": "execute_result"
    }
   ],
   "source": [
    "sk_model_result - tf_model_result"
   ]
  },
  {
   "cell_type": "code",
   "execution_count": null,
   "id": "d727dd92",
   "metadata": {},
   "outputs": [],
   "source": []
  }
 ],
 "metadata": {
  "kernelspec": {
   "display_name": "Python 3.10 (tensorflow)",
   "language": "python",
   "name": "tensorflow"
  },
  "language_info": {
   "codemirror_mode": {
    "name": "ipython",
    "version": 3
   },
   "file_extension": ".py",
   "mimetype": "text/x-python",
   "name": "python",
   "nbconvert_exporter": "python",
   "pygments_lexer": "ipython3",
   "version": "3.10.11"
  }
 },
 "nbformat": 4,
 "nbformat_minor": 5
}
