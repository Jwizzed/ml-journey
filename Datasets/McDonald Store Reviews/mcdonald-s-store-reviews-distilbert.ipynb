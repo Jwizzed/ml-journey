{
 "metadata": {
  "kernelspec": {
   "display_name": "Python 3 (ipykernel)",
   "language": "python",
   "name": "python3"
  },
  "language_info": {
   "codemirror_mode": {
    "name": "ipython",
    "version": 3
   },
   "file_extension": ".py",
   "mimetype": "text/x-python",
   "name": "python",
   "nbconvert_exporter": "python",
   "pygments_lexer": "ipython3",
   "version": "3.8.17"
  }
 },
 "nbformat_minor": 5,
 "nbformat": 4,
 "cells": [
  {
   "cell_type": "markdown",
   "source": [
    "## Import"
   ],
   "metadata": {}
  },
  {
   "cell_type": "code",
   "source": [
    "import torch\n",
    "import numpy as np\n",
    "import pandas as pd"
   ],
   "metadata": {},
   "execution_count": 1,
   "outputs": []
  },
  {
   "cell_type": "code",
   "source": [
    "import urllib\n",
    "url = \"https://raw.githubusercontent.com/Jwizzed/ml-journey/main/TT.py\"\n",
    "urllib.request.urlretrieve(url, \"TT.py\")"
   ],
   "metadata": {},
   "execution_count": 31,
   "outputs": []
  },
  {
   "cell_type": "code",
   "source": [
    "!ls"
   ],
   "metadata": {},
   "execution_count": 3,
   "outputs": [
    {
     "name": "stdout",
     "output_type": "stream",
     "text": "McDonald's Store Reviews (DistilBert).ipynb\n\nMcDonald_s_Reviews.csv\n\nTT.py\n\n\u001B[34m__pycache__\u001B[m\u001B[m\n\n\u001B[34mcheckpoints\u001B[m\u001B[m\n"
    }
   ]
  },
  {
   "cell_type": "code",
   "source": [
    "import TT"
   ],
   "metadata": {},
   "execution_count": 2,
   "outputs": []
  },
  {
   "cell_type": "code",
   "source": [
    "import huggingface_hub\n",
    "huggingface_hub.login()"
   ],
   "metadata": {
    "scrolled": true
   },
   "execution_count": 3,
   "outputs": [
    {
     "output_type": "display_data",
     "data": {
      "application/vnd.jupyter.widget-view+json": {
       "model_id": "fbfabc82823b48d78c51e6bbe1059988",
       "version_major": 2,
       "version_minor": 0
      },
      "text/plain": [
       "VBox(children=(HTML(value='<center> <img\\nsrc=https://huggingface.co/front/assets/huggingface_logo-noborder.sv…"
      ]
     },
     "metadata": {}
    }
   ]
  },
  {
   "cell_type": "code",
   "source": [
    "import torch\n",
    "\n",
    "# Set the device\n",
    "device = \"mps\" if torch.backends.mps.is_available() else \"cpu\"\n",
    "\n",
    "# Create data and send it to the device\n",
    "x = torch.rand(size=(3, 4)).to(device)\n",
    "x"
   ],
   "metadata": {},
   "execution_count": 4,
   "outputs": [
    {
     "execution_count": 4,
     "output_type": "execute_result",
     "data": {
      "text/plain": [
       "tensor([[0.6696, 0.7175, 0.7766, 0.4159],\n",
       "        [0.2291, 0.8230, 0.3461, 0.7040],\n",
       "        [0.3853, 0.0062, 0.7341, 0.9616]], device='mps:0')"
      ]
     },
     "metadata": {}
    }
   ]
  },
  {
   "cell_type": "markdown",
   "source": [
    "## Get data"
   ],
   "metadata": {}
  },
  {
   "cell_type": "code",
   "source": [
    "!kaggle datasets download -d nelgiriyewithana/mcdonalds-store-reviews"
   ],
   "metadata": {},
   "execution_count": 158,
   "outputs": [
    {
     "name": "stdout",
     "output_type": "stream",
     "text": "huggingface/tokenizers: The current process just got forked, after parallelism has already been used. Disabling parallelism to avoid deadlocks...\n\nTo disable this warning, you can either:\n\n\t- Avoid using `tokenizers` before the fork if possible\n\n\t- Explicitly set the environment variable TOKENIZERS_PARALLELISM=(true | false)\n\nWarning: Your Kaggle API key is readable by other users on this system! To fix this, you can run 'chmod 600 /Users/krittinsetdhavanich/.kaggle/kaggle.json'\n\nDownloading mcdonalds-store-reviews.zip to /Users/krittinsetdhavanich/Downloads/ml-journey/Datasets/McDonald's Store Reviews\n\n100%|██████████████████████████████████████| 1.78M/1.78M [00:01<00:00, 1.78MB/s]\n\n100%|██████████████████████████████████████| 1.78M/1.78M [00:01<00:00, 1.57MB/s]\n"
    }
   ]
  },
  {
   "cell_type": "code",
   "source": [
    "!ls"
   ],
   "metadata": {},
   "execution_count": 159,
   "outputs": [
    {
     "name": "stdout",
     "output_type": "stream",
     "text": "huggingface/tokenizers: The current process just got forked, after parallelism has already been used. Disabling parallelism to avoid deadlocks...\n\nTo disable this warning, you can either:\n\n\t- Avoid using `tokenizers` before the fork if possible\n\n\t- Explicitly set the environment variable TOKENIZERS_PARALLELISM=(true | false)\n\nMcDonald's Store Reviews.ipynb \u001B[34mcheckpoints\u001B[m\u001B[m\n\nMcDonald_s_Reviews.csv         mcdonalds-store-reviews.zip\n\nTT.py                          \u001B[34mtest\u001B[m\u001B[m\n\n\u001B[34m__pycache__\u001B[m\u001B[m\n"
    }
   ]
  },
  {
   "cell_type": "code",
   "source": [
    "TT.unzip(\"mcdonalds-store-reviews.zip\", delete_original=True)"
   ],
   "metadata": {},
   "execution_count": 160,
   "outputs": [
    {
     "name": "stdout",
     "output_type": "stream",
     "text": "Unzipped Successfully\n"
    }
   ]
  },
  {
   "cell_type": "code",
   "source": [
    "!ls"
   ],
   "metadata": {},
   "execution_count": 161,
   "outputs": [
    {
     "name": "stdout",
     "output_type": "stream",
     "text": "huggingface/tokenizers: The current process just got forked, after parallelism has already been used. Disabling parallelism to avoid deadlocks...\n\nTo disable this warning, you can either:\n\n\t- Avoid using `tokenizers` before the fork if possible\n\n\t- Explicitly set the environment variable TOKENIZERS_PARALLELISM=(true | false)\n\nMcDonald's Store Reviews.ipynb \u001B[34m__pycache__\u001B[m\u001B[m\n\nMcDonald_s_Reviews.csv         \u001B[34mcheckpoints\u001B[m\u001B[m\n\nTT.py                          \u001B[34mtest\u001B[m\u001B[m\n"
    }
   ]
  },
  {
   "cell_type": "code",
   "source": [
    "orig_df = pd.read_csv(\"McDonald_s_Reviews.csv\", encoding_errors=\"ignore\", skiprows=lambda i: i % 50 != 0)\n",
    "df = orig_df.copy()\n",
    "df.head()"
   ],
   "metadata": {},
   "execution_count": 5,
   "outputs": [
    {
     "execution_count": 5,
     "output_type": "execute_result",
     "data": {
      "text/html": [
       "<div>\n",
       "<style scoped>\n",
       "    .dataframe tbody tr th:only-of-type {\n",
       "        vertical-align: middle;\n",
       "    }\n",
       "\n",
       "    .dataframe tbody tr th {\n",
       "        vertical-align: top;\n",
       "    }\n",
       "\n",
       "    .dataframe thead th {\n",
       "        text-align: right;\n",
       "    }\n",
       "</style>\n",
       "<table border=\"1\" class=\"dataframe\">\n",
       "  <thead>\n",
       "    <tr style=\"text-align: right;\">\n",
       "      <th></th>\n",
       "      <th>reviewer_id</th>\n",
       "      <th>store_name</th>\n",
       "      <th>category</th>\n",
       "      <th>store_address</th>\n",
       "      <th>latitude</th>\n",
       "      <th>longitude</th>\n",
       "      <th>rating_count</th>\n",
       "      <th>review_time</th>\n",
       "      <th>review</th>\n",
       "      <th>rating</th>\n",
       "    </tr>\n",
       "  </thead>\n",
       "  <tbody>\n",
       "    <tr>\n",
       "      <th>0</th>\n",
       "      <td>50</td>\n",
       "      <td>McDonald's</td>\n",
       "      <td>Fast food restaurant</td>\n",
       "      <td>13749 US-183 Hwy, Austin, TX 78750, United States</td>\n",
       "      <td>30.460718</td>\n",
       "      <td>-97.792874</td>\n",
       "      <td>1,240</td>\n",
       "      <td>a year ago</td>\n",
       "      <td>Normally this location does pretty good, but l...</td>\n",
       "      <td>1 star</td>\n",
       "    </tr>\n",
       "    <tr>\n",
       "      <th>1</th>\n",
       "      <td>100</td>\n",
       "      <td>McDonald's</td>\n",
       "      <td>Fast food restaurant</td>\n",
       "      <td>13749 US-183 Hwy, Austin, TX 78750, United States</td>\n",
       "      <td>30.460718</td>\n",
       "      <td>-97.792874</td>\n",
       "      <td>1,240</td>\n",
       "      <td>a year ago</td>\n",
       "      <td>Mcdonalds is great but they really need to hir...</td>\n",
       "      <td>4 stars</td>\n",
       "    </tr>\n",
       "    <tr>\n",
       "      <th>2</th>\n",
       "      <td>150</td>\n",
       "      <td>McDonald's</td>\n",
       "      <td>Fast food restaurant</td>\n",
       "      <td>13749 US-183 Hwy, Austin, TX 78750, United States</td>\n",
       "      <td>30.460718</td>\n",
       "      <td>-97.792874</td>\n",
       "      <td>1,240</td>\n",
       "      <td>4 years ago</td>\n",
       "      <td>Always have had a positive experience.  Arthur...</td>\n",
       "      <td>5 stars</td>\n",
       "    </tr>\n",
       "    <tr>\n",
       "      <th>3</th>\n",
       "      <td>200</td>\n",
       "      <td>McDonald's</td>\n",
       "      <td>Fast food restaurant</td>\n",
       "      <td>13749 US-183 Hwy, Austin, TX 78750, United States</td>\n",
       "      <td>30.460718</td>\n",
       "      <td>-97.792874</td>\n",
       "      <td>1,240</td>\n",
       "      <td>3 years ago</td>\n",
       "      <td>Kiosk is a joke. Takes longer using it than ju...</td>\n",
       "      <td>2 stars</td>\n",
       "    </tr>\n",
       "    <tr>\n",
       "      <th>4</th>\n",
       "      <td>250</td>\n",
       "      <td>McDonald's</td>\n",
       "      <td>Fast food restaurant</td>\n",
       "      <td>13749 US-183 Hwy, Austin, TX 78750, United States</td>\n",
       "      <td>30.460718</td>\n",
       "      <td>-97.792874</td>\n",
       "      <td>1,240</td>\n",
       "      <td>3 years ago</td>\n",
       "      <td>They had 2 for 4$ McGriddles at the time, what...</td>\n",
       "      <td>5 stars</td>\n",
       "    </tr>\n",
       "  </tbody>\n",
       "</table>\n",
       "</div>"
      ],
      "text/plain": [
       "   reviewer_id  store_name              category  \\\n",
       "0           50  McDonald's  Fast food restaurant   \n",
       "1          100  McDonald's  Fast food restaurant   \n",
       "2          150  McDonald's  Fast food restaurant   \n",
       "3          200  McDonald's  Fast food restaurant   \n",
       "4          250  McDonald's  Fast food restaurant   \n",
       "\n",
       "                                       store_address  latitude   longitude  \\\n",
       "0  13749 US-183 Hwy, Austin, TX 78750, United States  30.460718 -97.792874   \n",
       "1  13749 US-183 Hwy, Austin, TX 78750, United States  30.460718 -97.792874   \n",
       "2  13749 US-183 Hwy, Austin, TX 78750, United States  30.460718 -97.792874   \n",
       "3  13749 US-183 Hwy, Austin, TX 78750, United States  30.460718 -97.792874   \n",
       "4  13749 US-183 Hwy, Austin, TX 78750, United States  30.460718 -97.792874   \n",
       "\n",
       "  rating_count  review_time  \\\n",
       "0        1,240   a year ago   \n",
       "1        1,240   a year ago   \n",
       "2        1,240  4 years ago   \n",
       "3        1,240  3 years ago   \n",
       "4        1,240  3 years ago   \n",
       "\n",
       "                                              review   rating  \n",
       "0  Normally this location does pretty good, but l...   1 star  \n",
       "1  Mcdonalds is great but they really need to hir...  4 stars  \n",
       "2  Always have had a positive experience.  Arthur...  5 stars  \n",
       "3  Kiosk is a joke. Takes longer using it than ju...  2 stars  \n",
       "4  They had 2 for 4$ McGriddles at the time, what...  5 stars  "
      ]
     },
     "metadata": {}
    }
   ]
  },
  {
   "cell_type": "code",
   "source": [
    "df.category.unique()"
   ],
   "metadata": {},
   "execution_count": 6,
   "outputs": [
    {
     "execution_count": 6,
     "output_type": "execute_result",
     "data": {
      "text/plain": [
       "array(['Fast food restaurant'], dtype=object)"
      ]
     },
     "metadata": {}
    }
   ]
  },
  {
   "cell_type": "code",
   "source": [
    "df.store_name.unique()"
   ],
   "metadata": {},
   "execution_count": 7,
   "outputs": [
    {
     "execution_count": 7,
     "output_type": "execute_result",
     "data": {
      "text/plain": [
       "array([\"McDonald's\"], dtype=object)"
      ]
     },
     "metadata": {}
    }
   ]
  },
  {
   "cell_type": "code",
   "source": [
    "df[[\"rating_count\", \"rating\"]].tail()"
   ],
   "metadata": {},
   "execution_count": 8,
   "outputs": [
    {
     "execution_count": 8,
     "output_type": "execute_result",
     "data": {
      "text/html": [
       "<div>\n",
       "<style scoped>\n",
       "    .dataframe tbody tr th:only-of-type {\n",
       "        vertical-align: middle;\n",
       "    }\n",
       "\n",
       "    .dataframe tbody tr th {\n",
       "        vertical-align: top;\n",
       "    }\n",
       "\n",
       "    .dataframe thead th {\n",
       "        text-align: right;\n",
       "    }\n",
       "</style>\n",
       "<table border=\"1\" class=\"dataframe\">\n",
       "  <thead>\n",
       "    <tr style=\"text-align: right;\">\n",
       "      <th></th>\n",
       "      <th>rating_count</th>\n",
       "      <th>rating</th>\n",
       "    </tr>\n",
       "  </thead>\n",
       "  <tbody>\n",
       "    <tr>\n",
       "      <th>662</th>\n",
       "      <td>2,810</td>\n",
       "      <td>5 stars</td>\n",
       "    </tr>\n",
       "    <tr>\n",
       "      <th>663</th>\n",
       "      <td>2,810</td>\n",
       "      <td>2 stars</td>\n",
       "    </tr>\n",
       "    <tr>\n",
       "      <th>664</th>\n",
       "      <td>2,810</td>\n",
       "      <td>1 star</td>\n",
       "    </tr>\n",
       "    <tr>\n",
       "      <th>665</th>\n",
       "      <td>2,810</td>\n",
       "      <td>1 star</td>\n",
       "    </tr>\n",
       "    <tr>\n",
       "      <th>666</th>\n",
       "      <td>2,810</td>\n",
       "      <td>1 star</td>\n",
       "    </tr>\n",
       "  </tbody>\n",
       "</table>\n",
       "</div>"
      ],
      "text/plain": [
       "    rating_count   rating\n",
       "662        2,810  5 stars\n",
       "663        2,810  2 stars\n",
       "664        2,810   1 star\n",
       "665        2,810   1 star\n",
       "666        2,810   1 star"
      ]
     },
     "metadata": {}
    }
   ]
  },
  {
   "cell_type": "code",
   "source": [
    "df = df[[\"review\", \"rating\"]]\n",
    "df"
   ],
   "metadata": {},
   "execution_count": 9,
   "outputs": [
    {
     "execution_count": 9,
     "output_type": "execute_result",
     "data": {
      "text/html": [
       "<div>\n",
       "<style scoped>\n",
       "    .dataframe tbody tr th:only-of-type {\n",
       "        vertical-align: middle;\n",
       "    }\n",
       "\n",
       "    .dataframe tbody tr th {\n",
       "        vertical-align: top;\n",
       "    }\n",
       "\n",
       "    .dataframe thead th {\n",
       "        text-align: right;\n",
       "    }\n",
       "</style>\n",
       "<table border=\"1\" class=\"dataframe\">\n",
       "  <thead>\n",
       "    <tr style=\"text-align: right;\">\n",
       "      <th></th>\n",
       "      <th>review</th>\n",
       "      <th>rating</th>\n",
       "    </tr>\n",
       "  </thead>\n",
       "  <tbody>\n",
       "    <tr>\n",
       "      <th>0</th>\n",
       "      <td>Normally this location does pretty good, but l...</td>\n",
       "      <td>1 star</td>\n",
       "    </tr>\n",
       "    <tr>\n",
       "      <th>1</th>\n",
       "      <td>Mcdonalds is great but they really need to hir...</td>\n",
       "      <td>4 stars</td>\n",
       "    </tr>\n",
       "    <tr>\n",
       "      <th>2</th>\n",
       "      <td>Always have had a positive experience.  Arthur...</td>\n",
       "      <td>5 stars</td>\n",
       "    </tr>\n",
       "    <tr>\n",
       "      <th>3</th>\n",
       "      <td>Kiosk is a joke. Takes longer using it than ju...</td>\n",
       "      <td>2 stars</td>\n",
       "    </tr>\n",
       "    <tr>\n",
       "      <th>4</th>\n",
       "      <td>They had 2 for 4$ McGriddles at the time, what...</td>\n",
       "      <td>5 stars</td>\n",
       "    </tr>\n",
       "    <tr>\n",
       "      <th>...</th>\n",
       "      <td>...</td>\n",
       "      <td>...</td>\n",
       "    </tr>\n",
       "    <tr>\n",
       "      <th>662</th>\n",
       "      <td>Awesome</td>\n",
       "      <td>5 stars</td>\n",
       "    </tr>\n",
       "    <tr>\n",
       "      <th>663</th>\n",
       "      <td>Poor</td>\n",
       "      <td>2 stars</td>\n",
       "    </tr>\n",
       "    <tr>\n",
       "      <th>664</th>\n",
       "      <td>Very slow, too slow</td>\n",
       "      <td>1 star</td>\n",
       "    </tr>\n",
       "    <tr>\n",
       "      <th>665</th>\n",
       "      <td>Terrible!</td>\n",
       "      <td>1 star</td>\n",
       "    </tr>\n",
       "    <tr>\n",
       "      <th>666</th>\n",
       "      <td>No Good Unhealthy Dirty Bathroom</td>\n",
       "      <td>1 star</td>\n",
       "    </tr>\n",
       "  </tbody>\n",
       "</table>\n",
       "<p>667 rows × 2 columns</p>\n",
       "</div>"
      ],
      "text/plain": [
       "                                                review   rating\n",
       "0    Normally this location does pretty good, but l...   1 star\n",
       "1    Mcdonalds is great but they really need to hir...  4 stars\n",
       "2    Always have had a positive experience.  Arthur...  5 stars\n",
       "3    Kiosk is a joke. Takes longer using it than ju...  2 stars\n",
       "4    They had 2 for 4$ McGriddles at the time, what...  5 stars\n",
       "..                                                 ...      ...\n",
       "662                                            Awesome  5 stars\n",
       "663                                              Poor   2 stars\n",
       "664                                Very slow, too slow   1 star\n",
       "665                                          Terrible!   1 star\n",
       "666                   No Good Unhealthy Dirty Bathroom   1 star\n",
       "\n",
       "[667 rows x 2 columns]"
      ]
     },
     "metadata": {}
    }
   ]
  },
  {
   "cell_type": "markdown",
   "source": [
    "## Data Preprocess"
   ],
   "metadata": {}
  },
  {
   "cell_type": "code",
   "source": [
    "df.isna().sum(), df.shape"
   ],
   "metadata": {},
   "execution_count": 15,
   "outputs": [
    {
     "execution_count": 15,
     "output_type": "execute_result",
     "data": {
      "text/plain": [
       "(review    0\n",
       " rating    0\n",
       " dtype: int64,\n",
       " (667, 2))"
      ]
     },
     "metadata": {}
    }
   ]
  },
  {
   "cell_type": "code",
   "source": [
    "df.dropna(inplace=True)\n",
    "df.shape"
   ],
   "metadata": {},
   "execution_count": 16,
   "outputs": [
    {
     "execution_count": 16,
     "output_type": "execute_result",
     "data": {
      "text/plain": [
       "(667, 2)"
      ]
     },
     "metadata": {}
    }
   ]
  },
  {
   "cell_type": "code",
   "source": [
    "df.drop_duplicates(\"review\", keep=\"last\", inplace=True)\n",
    "df.rename(columns={\"rating\":\"labels\", \"review\":\"text\"}, inplace=True)\n",
    "df.head()"
   ],
   "metadata": {},
   "execution_count": 17,
   "outputs": [
    {
     "execution_count": 17,
     "output_type": "execute_result",
     "data": {
      "text/html": [
       "<div>\n",
       "<style scoped>\n",
       "    .dataframe tbody tr th:only-of-type {\n",
       "        vertical-align: middle;\n",
       "    }\n",
       "\n",
       "    .dataframe tbody tr th {\n",
       "        vertical-align: top;\n",
       "    }\n",
       "\n",
       "    .dataframe thead th {\n",
       "        text-align: right;\n",
       "    }\n",
       "</style>\n",
       "<table border=\"1\" class=\"dataframe\">\n",
       "  <thead>\n",
       "    <tr style=\"text-align: right;\">\n",
       "      <th></th>\n",
       "      <th>text</th>\n",
       "      <th>labels</th>\n",
       "    </tr>\n",
       "  </thead>\n",
       "  <tbody>\n",
       "    <tr>\n",
       "      <th>0</th>\n",
       "      <td>Normally this location does pretty good, but l...</td>\n",
       "      <td>1 star</td>\n",
       "    </tr>\n",
       "    <tr>\n",
       "      <th>1</th>\n",
       "      <td>Mcdonalds is great but they really need to hir...</td>\n",
       "      <td>4 stars</td>\n",
       "    </tr>\n",
       "    <tr>\n",
       "      <th>2</th>\n",
       "      <td>Always have had a positive experience.  Arthur...</td>\n",
       "      <td>5 stars</td>\n",
       "    </tr>\n",
       "    <tr>\n",
       "      <th>3</th>\n",
       "      <td>Kiosk is a joke. Takes longer using it than ju...</td>\n",
       "      <td>2 stars</td>\n",
       "    </tr>\n",
       "    <tr>\n",
       "      <th>4</th>\n",
       "      <td>They had 2 for 4$ McGriddles at the time, what...</td>\n",
       "      <td>5 stars</td>\n",
       "    </tr>\n",
       "  </tbody>\n",
       "</table>\n",
       "</div>"
      ],
      "text/plain": [
       "                                                text   labels\n",
       "0  Normally this location does pretty good, but l...   1 star\n",
       "1  Mcdonalds is great but they really need to hir...  4 stars\n",
       "2  Always have had a positive experience.  Arthur...  5 stars\n",
       "3  Kiosk is a joke. Takes longer using it than ju...  2 stars\n",
       "4  They had 2 for 4$ McGriddles at the time, what...  5 stars"
      ]
     },
     "metadata": {}
    }
   ]
  },
  {
   "cell_type": "code",
   "source": [
    "df.labels.unique()"
   ],
   "metadata": {},
   "execution_count": 18,
   "outputs": [
    {
     "execution_count": 18,
     "output_type": "execute_result",
     "data": {
      "text/plain": [
       "array(['1 star', '4 stars', '5 stars', '2 stars', '3 stars'], dtype=object)"
      ]
     },
     "metadata": {}
    }
   ]
  },
  {
   "cell_type": "code",
   "source": [
    "df[\"labels\"] = df[\"labels\"].replace({\"1 star\":0, \"2 stars\": 1, \"3 stars\": 2, \"4 stars\": 3, \"5 stars\": 4 })\n",
    "df = df.loc[df['text'].str.contains(r'[^\\x00-\\x7F]+') == False]\n",
    "df.head()"
   ],
   "metadata": {},
   "execution_count": 19,
   "outputs": [
    {
     "execution_count": 19,
     "output_type": "execute_result",
     "data": {
      "text/html": [
       "<div>\n",
       "<style scoped>\n",
       "    .dataframe tbody tr th:only-of-type {\n",
       "        vertical-align: middle;\n",
       "    }\n",
       "\n",
       "    .dataframe tbody tr th {\n",
       "        vertical-align: top;\n",
       "    }\n",
       "\n",
       "    .dataframe thead th {\n",
       "        text-align: right;\n",
       "    }\n",
       "</style>\n",
       "<table border=\"1\" class=\"dataframe\">\n",
       "  <thead>\n",
       "    <tr style=\"text-align: right;\">\n",
       "      <th></th>\n",
       "      <th>text</th>\n",
       "      <th>labels</th>\n",
       "    </tr>\n",
       "  </thead>\n",
       "  <tbody>\n",
       "    <tr>\n",
       "      <th>0</th>\n",
       "      <td>Normally this location does pretty good, but l...</td>\n",
       "      <td>0</td>\n",
       "    </tr>\n",
       "    <tr>\n",
       "      <th>1</th>\n",
       "      <td>Mcdonalds is great but they really need to hir...</td>\n",
       "      <td>3</td>\n",
       "    </tr>\n",
       "    <tr>\n",
       "      <th>2</th>\n",
       "      <td>Always have had a positive experience.  Arthur...</td>\n",
       "      <td>4</td>\n",
       "    </tr>\n",
       "    <tr>\n",
       "      <th>5</th>\n",
       "      <td>Fries tasted like they were cooked in grease f...</td>\n",
       "      <td>0</td>\n",
       "    </tr>\n",
       "    <tr>\n",
       "      <th>6</th>\n",
       "      <td>Good food, especially late</td>\n",
       "      <td>3</td>\n",
       "    </tr>\n",
       "  </tbody>\n",
       "</table>\n",
       "</div>"
      ],
      "text/plain": [
       "                                                text  labels\n",
       "0  Normally this location does pretty good, but l...       0\n",
       "1  Mcdonalds is great but they really need to hir...       3\n",
       "2  Always have had a positive experience.  Arthur...       4\n",
       "5  Fries tasted like they were cooked in grease f...       0\n",
       "6                         Good food, especially late       3"
      ]
     },
     "metadata": {}
    }
   ]
  },
  {
   "cell_type": "code",
   "source": [
    "import datasets"
   ],
   "metadata": {},
   "execution_count": 20,
   "outputs": []
  },
  {
   "cell_type": "code",
   "source": [
    "max_length = 128 \n",
    "batch_size = 32 \n",
    "\n",
    "dataset = datasets.Dataset.from_pandas(df)\n",
    "dataset = dataset.train_test_split(test_size=0.2, seed=42)\n",
    "dataset = dataset.remove_columns([\"__index_level_0__\"])\n",
    "dataset"
   ],
   "metadata": {
    "scrolled": true
   },
   "execution_count": 21,
   "outputs": [
    {
     "execution_count": 21,
     "output_type": "execute_result",
     "data": {
      "text/plain": [
       "DatasetDict({\n",
       "    train: Dataset({\n",
       "        features: ['text', 'labels'],\n",
       "        num_rows: 412\n",
       "    })\n",
       "    test: Dataset({\n",
       "        features: ['text', 'labels'],\n",
       "        num_rows: 103\n",
       "    })\n",
       "})"
      ]
     },
     "metadata": {}
    }
   ]
  },
  {
   "cell_type": "code",
   "source": [
    "id2label = {0: \"1 star\", 1: \"2 stars\", 2: \"3 stars\", 3: \"4 stars\", 4: \"2 stars\"}\n",
    "label2id = {\"1 star\":0, \"2 stars\":1, \"3 stars\":2, \"4 stars\":3, \"5 stars\":4}"
   ],
   "metadata": {},
   "execution_count": 22,
   "outputs": []
  },
  {
   "cell_type": "code",
   "source": [
    "from transformers import AutoTokenizer, AutoModelForSequenceClassification,TrainingArguments, Trainer, DataCollatorWithPadding\n",
    "\n",
    "tokenizer = AutoTokenizer.from_pretrained(\"distilbert-base-uncased\")\n",
    "model = AutoModelForSequenceClassification.from_pretrained(\"distilbert-base-uncased\",num_labels=5, id2label=id2label, label2id=label2id).to(device)\n"
   ],
   "metadata": {},
   "execution_count": 23,
   "outputs": [
    {
     "name": "stderr",
     "output_type": "stream",
     "text": "Some weights of the model checkpoint at distilbert-base-uncased were not used when initializing DistilBertForSequenceClassification: ['vocab_layer_norm.weight', 'vocab_transform.bias', 'vocab_projector.bias', 'vocab_projector.weight', 'vocab_transform.weight', 'vocab_layer_norm.bias']\n\n- This IS expected if you are initializing DistilBertForSequenceClassification from the checkpoint of a model trained on another task or with another architecture (e.g. initializing a BertForSequenceClassification model from a BertForPreTraining model).\n\n- This IS NOT expected if you are initializing DistilBertForSequenceClassification from the checkpoint of a model that you expect to be exactly identical (initializing a BertForSequenceClassification model from a BertForSequenceClassification model).\n\nSome weights of DistilBertForSequenceClassification were not initialized from the model checkpoint at distilbert-base-uncased and are newly initialized: ['pre_classifier.weight', 'classifier.bias', 'pre_classifier.bias', 'classifier.weight']\n\nYou should probably TRAIN this model on a down-stream task to be able to use it for predictions and inference.\n"
    }
   ]
  },
  {
   "cell_type": "code",
   "source": [
    "avg_length = int(np.mean([len(sentence) for sentence in df.text]))\n",
    "avg_length"
   ],
   "metadata": {},
   "execution_count": 24,
   "outputs": [
    {
     "execution_count": 24,
     "output_type": "execute_result",
     "data": {
      "text/plain": [
       "140"
      ]
     },
     "metadata": {}
    }
   ]
  },
  {
   "cell_type": "code",
   "source": [
    "# def tokenize_function(examples):\n",
    "#     return tokenizer(examples[\"text\"],padding=True, truncation=True, return_tensors=\"pt\").to(device)\n",
    "        \n",
    "def tokenize_function(examples):\n",
    "    return tokenizer(\n",
    "        examples[\"text\"],\n",
    "        padding=\"max_length\",  \n",
    "        max_length=avg_length,  \n",
    "        truncation=True, \n",
    "        return_tensors=\"pt\"\n",
    "    ).to(device)\n",
    "\n",
    "tokenized_datasets = dataset.map(tokenize_function, batched=True)"
   ],
   "metadata": {},
   "execution_count": 25,
   "outputs": [
    {
     "output_type": "display_data",
     "data": {
      "application/vnd.jupyter.widget-view+json": {
       "model_id": "",
       "version_major": 2,
       "version_minor": 0
      },
      "text/plain": [
       "Map:   0%|          | 0/412 [00:00<?, ? examples/s]"
      ]
     },
     "metadata": {}
    },
    {
     "output_type": "display_data",
     "data": {
      "application/vnd.jupyter.widget-view+json": {
       "model_id": "",
       "version_major": 2,
       "version_minor": 0
      },
      "text/plain": [
       "Map:   0%|          | 0/103 [00:00<?, ? examples/s]"
      ]
     },
     "metadata": {}
    }
   ]
  },
  {
   "cell_type": "markdown",
   "source": [
    "## Model"
   ],
   "metadata": {}
  },
  {
   "cell_type": "code",
   "source": [
    "data_collator = DataCollatorWithPadding(tokenizer)"
   ],
   "metadata": {},
   "execution_count": 26,
   "outputs": []
  },
  {
   "cell_type": "code",
   "source": [
    "def compute_metrics(eval_pred):\n",
    "    acc_metric = datasets.load_metric('accuracy')\n",
    "    f1_metric = datasets.load_metric('f1')\n",
    "    y_logits, y_labels = eval_pred\n",
    "    y_pred = np.argmax(y_logits, axis=-1)\n",
    "    acc = acc_metric.compute(predictions=y_pred, references=y_labels)['accuracy']\n",
    "    f1 = f1_metric.compute(predictions=y_pred, references=y_labels, average='macro')['f1']\n",
    "    \n",
    "    return {'accuracy':acc, 'f1':f1}"
   ],
   "metadata": {},
   "execution_count": 27,
   "outputs": []
  },
  {
   "cell_type": "code",
   "source": [
    "\n",
    "training_args = TrainingArguments(\n",
    "    output_dir=\"checkpoints\",\n",
    "    learning_rate=2e-5,\n",
    "    per_device_train_batch_size=16,\n",
    "    per_device_eval_batch_size=16,\n",
    "    num_train_epochs=5,\n",
    "    weight_decay=0.01,\n",
    "    evaluation_strategy=\"epoch\",\n",
    "    save_strategy=\"epoch\",\n",
    "    load_best_model_at_end=True,\n",
    "\n",
    ")\n",
    "\n",
    "trainer = Trainer(\n",
    "    model=model.to(device),\n",
    "    args=training_args,\n",
    "    train_dataset=tokenized_datasets[\"train\"],\n",
    "    eval_dataset=tokenized_datasets[\"test\"],\n",
    "    tokenizer=tokenizer,\n",
    "    data_collator=data_collator,\n",
    "    compute_metrics=compute_metrics,\n",
    ")\n",
    "\n",
    "trainer.train()"
   ],
   "metadata": {
    "scrolled": true
   },
   "execution_count": 28,
   "outputs": [
    {
     "name": "stderr",
     "output_type": "stream",
     "text": "/Users/krittinsetdhavanich/pytorch-test/touch-env/lib/python3.8/site-packages/transformers/optimization.py:407: FutureWarning: This implementation of AdamW is deprecated and will be removed in a future version. Use the PyTorch implementation torch.optim.AdamW instead, or set `no_deprecation_warning=True` to disable this warning\n\n  warnings.warn(\n\nYou're using a DistilBertTokenizerFast tokenizer. Please note that with a fast tokenizer, using the `__call__` method is faster than using a method to encode the text followed by a call to the `pad` method to get a padded encoding.\n"
    },
    {
     "output_type": "display_data",
     "data": {
      "text/html": [
       "\n",
       "    <div>\n",
       "      \n",
       "      <progress value='130' max='130' style='width:300px; height:20px; vertical-align: middle;'></progress>\n",
       "      [130/130 06:14, Epoch 5/5]\n",
       "    </div>\n",
       "    <table border=\"1\" class=\"dataframe\">\n",
       "  <thead>\n",
       " <tr style=\"text-align: left;\">\n",
       "      <th>Epoch</th>\n",
       "      <th>Training Loss</th>\n",
       "      <th>Validation Loss</th>\n",
       "      <th>Accuracy</th>\n",
       "      <th>F1</th>\n",
       "    </tr>\n",
       "  </thead>\n",
       "  <tbody>\n",
       "    <tr>\n",
       "      <td>1</td>\n",
       "      <td>No log</td>\n",
       "      <td>1.486685</td>\n",
       "      <td>0.504854</td>\n",
       "      <td>0.257394</td>\n",
       "    </tr>\n",
       "    <tr>\n",
       "      <td>2</td>\n",
       "      <td>No log</td>\n",
       "      <td>1.289004</td>\n",
       "      <td>0.553398</td>\n",
       "      <td>0.280882</td>\n",
       "    </tr>\n",
       "    <tr>\n",
       "      <td>3</td>\n",
       "      <td>No log</td>\n",
       "      <td>1.204338</td>\n",
       "      <td>0.563107</td>\n",
       "      <td>0.285965</td>\n",
       "    </tr>\n",
       "    <tr>\n",
       "      <td>4</td>\n",
       "      <td>No log</td>\n",
       "      <td>1.176864</td>\n",
       "      <td>0.563107</td>\n",
       "      <td>0.285965</td>\n",
       "    </tr>\n",
       "    <tr>\n",
       "      <td>5</td>\n",
       "      <td>No log</td>\n",
       "      <td>1.161213</td>\n",
       "      <td>0.563107</td>\n",
       "      <td>0.285965</td>\n",
       "    </tr>\n",
       "  </tbody>\n",
       "</table><p>"
      ],
      "text/plain": [
       "<IPython.core.display.HTML object>"
      ]
     },
     "metadata": {}
    },
    {
     "name": "stderr",
     "output_type": "stream",
     "text": "/var/folders/54/bsd8kfld1_xcw8npb7rc2qgw0000gn/T/ipykernel_60090/1295628286.py:2: FutureWarning: load_metric is deprecated and will be removed in the next major version of datasets. Use 'evaluate.load' instead, from the new library 🤗 Evaluate: https://huggingface.co/docs/evaluate\n\n  acc_metric = datasets.load_metric('accuracy')\n"
    },
    {
     "execution_count": 28,
     "output_type": "execute_result",
     "data": {
      "text/plain": [
       "TrainOutput(global_step=130, training_loss=1.2232698880709134, metrics={'train_runtime': 376.6287, 'train_samples_per_second': 5.47, 'train_steps_per_second': 0.345, 'total_flos': 74620393932000.0, 'train_loss': 1.2232698880709134, 'epoch': 5.0})"
      ]
     },
     "metadata": {}
    }
   ]
  },
  {
   "cell_type": "code",
   "source": [
    "trainer.evaluate()"
   ],
   "metadata": {
    "scrolled": true
   },
   "execution_count": 30,
   "outputs": [
    {
     "execution_count": 30,
     "output_type": "execute_result",
     "data": {
      "text/plain": [
       "{'eval_loss': 1.1612132787704468,\n",
       " 'eval_accuracy': 0.5631067961165048,\n",
       " 'eval_f1': 0.28596491228070176,\n",
       " 'eval_runtime': 6.9661,\n",
       " 'eval_samples_per_second': 14.786,\n",
       " 'eval_steps_per_second': 1.005,\n",
       " 'epoch': 5.0}"
      ]
     },
     "metadata": {}
    }
   ]
  },
  {
   "cell_type": "code",
   "source": [],
   "metadata": {},
   "execution_count": null,
   "outputs": []
  }
 ]
}
